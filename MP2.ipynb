{
 "cells": [
  {
   "cell_type": "markdown",
   "id": "a787f2ab-8fd8-4cfb-ab15-38ef01eb6107",
   "metadata": {
    "id": "a787f2ab-8fd8-4cfb-ab15-38ef01eb6107"
   },
   "source": [
    "# PROGRES 2024 - Mini-Projet 2\n",
    "# API Web\n",
    "\n",
    "Fabien Mathieu - fabien.mathieu@normalesup.org\n",
    "\n",
    "Sébastien Tixeuil - Sebastien.Tixeuil@lip6.fr"
   ]
  },
  {
   "cell_type": "markdown",
   "id": "dcd6dc16",
   "metadata": {
    "id": "dcd6dc16"
   },
   "source": [
    "The purpose of this mini-project is to work with the *Internet Movie DataBase* (IMDB) and the Python package bottle. It will involve:\n",
    "\n",
    "- Retrieve and manipulate datasets\n",
    "- Build an API to perform various tasks on the data\n",
    "- Build a website that will use the API above"
   ]
  },
  {
   "cell_type": "markdown",
   "id": "51474257",
   "metadata": {},
   "source": [
    "# Rules"
   ]
  },
  {
   "cell_type": "markdown",
   "id": "9a94a271",
   "metadata": {},
   "source": [
    "1. Cite your sources\n",
    "2. One file to rule them all\n",
    "3. Explain\n",
    "4. Execute your code\n",
    "\n",
    "\n",
    "https://github.com/balouf/progres/blob/main/rules.ipynb"
   ]
  },
  {
   "cell_type": "markdown",
   "id": "efa9293e",
   "metadata": {},
   "source": [
    "# The IMDB dataset"
   ]
  },
  {
   "cell_type": "markdown",
   "id": "a24ca9a8",
   "metadata": {},
   "source": [
    "[IMDB](https://www.imdb.com) allows to retrieve a part of its dataset for any non-commercial purpose. The available data and the formatting convention is described here: https://developer.imdb.com/non-commercial-datasets/\n",
    "\n",
    "We are especially interested in the data from the following files:\n",
    "- https://datasets.imdbws.com/title.principals.tsv.gz\n",
    "- https://datasets.imdbws.com/name.basics.tsv.gz\n",
    "- https://datasets.imdbws.com/title.basics.tsv.gz\n",
    "\n",
    "**Important notes**:\n",
    "- If you see *Your answer here*, that means something is expected from you.\n",
    "- To help you, the start and/or the end of a possible solution is sometimes given.\n",
    "- The content of IMDB is refreshed regularly. That means that some of the results you will compute, like the number of movies, will vary with time. This should not surprise you."
   ]
  },
  {
   "cell_type": "markdown",
   "id": "ff9d4109",
   "metadata": {},
   "source": [
    "## Exercise 1: Download"
   ]
  },
  {
   "cell_type": "markdown",
   "id": "6fb20ea6",
   "metadata": {},
   "source": [
    "Write a `download_imdb` function inspired by the `download` function seen in course, with the following modifications:\n",
    "- `download_imdb` will have one single argument, the name of the file to retrieve. Location is assumed to be https://datasets.imdbws.com/\n",
    "- If the file already exists, print a message telling that it exists and do nothing. You can use the `pathlib` module for that."
   ]
  },
  {
   "cell_type": "markdown",
   "id": "628c6300",
   "metadata": {},
   "source": [
    "Your answer here."
   ]
  },
  {
   "cell_type": "markdown",
   "id": "4c4f1dc8-1879-43fc-a522-6a108f07532e",
   "metadata": {},
   "source": [
    "<span style=\"color:blue\"><b>Solution</b></span>\r",
    "La fonction `download_imdb` a pour objectif de télécharger un fichier depuis `https://datasets.imdbws.com/`, en vérifiant d'abord s'il existe déjà dans le dossier courant. Pour cela, nous nous sommes inspirées de la fonction `download` vue en cours ( Web Services),  en reprenant les bases, mais avec quelques modifications afin d'adapter la solution à l'énoncé. \n",
    "- D'abord, nous créons une session `requests` pour gérer la requête HTTP, en définissant `s.verify=True` pour s'assurer que la connexion HTTPS est sécurisée, contrairement au cours où `verify` est `False`.\n",
    "- Ensuite, l'URL complète du fichier est construite via `urljoin`, qui combine `base_url` et le nom du fichier donné en paramètre. Le fichier de destination est ensuite défini via `Path`, qui permet une manipulation compatible sur toutes les plateformes. ( Nous avons demandé à chatgpt s'il y avait un moyen simple de combiner une url et il nous a proposé plusieurs alternatives, parmi lesquelles figurait `urljoin`)\n",
    "- Nous vérifions ensuite si le fichier est déja présent avec  `Path(file).exists()`  et si c'est le cas, un message est affiché et la fonction s'arrête car il n'y a pas  besoin de télécharger à nouveau .\n",
    "- Enfin, pour télécharger le fichier, nous utilisons le streaming (`iter_content(chunk_size=8192)`) pour lire et écrire le fichier par blocs, une approche inspirée de la fonction de cours, et qui est efficace pour les fichiers volumineux (comme c'est le cas dans le cadre de ce projet).\n"
   ]
  },
  {
   "cell_type": "code",
   "execution_count": 24,
   "id": "31736a39-922c-45d0-8fb6-ef7b7925e0c9",
   "metadata": {},
   "outputs": [],
   "source": [
    "from pathlib import Path\n",
    "from requests import Session\n",
    "from urllib.parse import urljoin\n",
    "\n",
    "base_url = \"https://datasets.imdbws.com/\"\n",
    "\n",
    "def download_imdb(file):\n",
    "    s = Session()\n",
    "    s.verify = True\n",
    "    source_url = urljoin(base_url, file)\n",
    "    r = s.get(source_url, stream=True) \n",
    "    dest = Path(file)  # Chemin de destination dans le dossier courant \n",
    "    if dest.exists():\n",
    "        print(f\"{file} already exists.\")\n",
    "    else:\n",
    "        with open(dest, \"wb\") as f:\n",
    "            for chunk in r.iter_content(chunk_size=8192):\n",
    "                if chunk:\n",
    "                    f.write(chunk)\n",
    "          "
   ]
  },
  {
   "cell_type": "code",
   "execution_count": 26,
   "id": "4a180722-83e2-41d4-b6f3-e81c9b025d31",
   "metadata": {},
   "outputs": [
    {
     "name": "stdout",
     "output_type": "stream",
     "text": [
      "title.principals.tsv.gz already exists.\n",
      "name.basics.tsv.gz already exists.\n",
      "title.basics.tsv.gz already exists.\n"
     ]
    }
   ],
   "source": [
    "files = ['title.principals.tsv.gz', 'name.basics.tsv.gz', 'title.basics.tsv.gz']\n",
    "for file in files:\n",
    "    download_imdb(file)"
   ]
  },
  {
   "cell_type": "markdown",
   "id": "216c4b71",
   "metadata": {},
   "source": [
    "## Exercise 2: Explore"
   ]
  },
  {
   "cell_type": "markdown",
   "id": "0cf0a274",
   "metadata": {},
   "source": [
    "- What is the size of the different files you retrieved? You can use Python or a file explorer, as you prefer."
   ]
  },
  {
   "cell_type": "markdown",
   "id": "93fec8b9",
   "metadata": {},
   "source": [
    "Your answer here."
   ]
  },
  {
   "cell_type": "markdown",
   "id": "e6cb2e0c-6965-4989-a241-5e2e51ebdff6",
   "metadata": {},
   "source": [
    "<span style=\"color:blue\"><b>Solution :</b></span>\n",
    "Le but de cet excercice est de lire les premières lignes d'un fichier TSV compressé (gzip) sans le décompresser entièrement, puis d'analyser le nombre d'entrées pour les films et les personnes dans la base de données pour comprendre comment on peut gérer de gros fichiers compressés, en gérant efficacement la mémoire et en extrayant les informations dont on a besoin uniquement.\n",
    "Pour la première question de l'excercice, on souhaite calculer la taille des différents fichiers qui figurent dans la liste files, pour cela :\n",
    "- On utilise `Path` pour obtenir le chemin de chaque fichier dans le répertoire courantet on calcule la taille avec la fonction `st_size` qui permet de récuperer la taille en octets. Pour mieux exprimer la taille, nous avons décider de la convertir en MO en divisant par 1024^2."
   ]
  },
  {
   "cell_type": "code",
   "execution_count": 28,
   "id": "c5fbbb58-0759-4def-bb6d-2642732dbb9c",
   "metadata": {},
   "outputs": [
    {
     "name": "stdout",
     "output_type": "stream",
     "text": [
      "title.principals.tsv.gz: 689764062 octets, 657.81 Mo\n",
      "name.basics.tsv.gz: 275334300 octets, 262.58 Mo\n",
      "title.basics.tsv.gz: 197333940 octets, 188.19 Mo\n"
     ]
    }
   ],
   "source": [
    "files = ['title.principals.tsv.gz', 'name.basics.tsv.gz', 'title.basics.tsv.gz']\n",
    "for file in files:\n",
    "    dest = Path(file)  \n",
    "    size = dest.stat().st_size \n",
    "    size_mb = size / (1024**2)\n",
    "    print(f\"{file}: {size} octets, {size_mb:.2f} Mo\")"
   ]
  },
  {
   "cell_type": "markdown",
   "id": "7cb096d5",
   "metadata": {},
   "source": [
    "As explained in https://developer.imdb.com/non-commercial-datasets/:\n",
    "- the data is stored as `tsv`, which means each text line represents a row.\n",
    "- A [gzip compression](https://docs.python.org/3/library/gzip.html) is used to reduce the size of the data on the hard drive.\n",
    "\n",
    "Large compressed files should not be uncompressed on your hard drive or fully loaded in memory.\n",
    "\n",
    "The Python [gzip module](https://docs.python.org/3/library/gzip.html) is designed so you can open a compressed file as if it was already uncompressed. For example, the following code reads 666 lines from `title.basics` and print the last line read."
   ]
  },
  {
   "cell_type": "code",
   "execution_count": 19,
   "id": "4da56b1f",
   "metadata": {
    "ExecuteTime": {
     "end_time": "2024-10-17T19:38:38.348990Z",
     "start_time": "2024-10-17T19:38:38.339737Z"
    }
   },
   "outputs": [
    {
     "name": "stdout",
     "output_type": "stream",
     "text": [
      "tt0000671\tshort\tDesdemona\tDesdemona\t0\t1908\t\\N\t\\N\tDrama,Short\n",
      "\n"
     ]
    }
   ],
   "source": [
    "import gzip\n",
    "with gzip.open('title.basics.tsv.gz', 'rt', encoding='utf8') as f:\n",
    "    for _ in range(666):\n",
    "        l = f.readline()\n",
    "print(l)"
   ]
  },
  {
   "cell_type": "markdown",
   "id": "bcf2ffad",
   "metadata": {},
   "source": [
    "- Write a function that read the 4 first lines of a compressed tsv file. Each line read should be converted into a list of elements and printed."
   ]
  },
  {
   "cell_type": "markdown",
   "id": "a011838d",
   "metadata": {},
   "source": [
    "Your answer here."
   ]
  },
  {
   "cell_type": "markdown",
   "id": "dcdc0b8f-c292-4e43-9d87-a8d88b215b16",
   "metadata": {},
   "source": [
    "<span style=\"color:blue\"><b>Solution :</b></span>\n",
    "Dans cette question, on cherche à lire uniquement les 4 premières lignes du fichier tsv compressé en les convertissant en liste. Pour cela :\n",
    "- Nous ouvrons le fichier en mode lecture texte (rt) et spécifions l'encodage utf-8 afin d'assurer une bonne interprétation des caractères spéciaux (comme les accents).\n",
    "- Ensuite, puisqu'il nous a été demandé de lire ligne par ligne, nous utilisons la fonction readline() pour récupérer chaque ligne du fichier.\n",
    "- Après chaque lecture, nous utilisons strip() pour enlever les espaces en plus et les sauts de ligne à la fin de chaque ligne, ce qui nous permet de ne pas interférer avec le découpage des éléments.\n",
    "- Puis, comme chaque valeur dans une ligne du fichier TSV est séparée par une tabulation, nous procédons à un découpage de la ligne avec split('\\t') pour obtenir les différents éléments sous forme de liste."
   ]
  },
  {
   "cell_type": "code",
   "execution_count": 23,
   "id": "7362cb0e",
   "metadata": {
    "ExecuteTime": {
     "end_time": "2024-10-17T19:38:38.358560Z",
     "start_time": "2024-10-17T19:38:38.351001Z"
    },
    "id": "d743066b"
   },
   "outputs": [],
   "source": [
    "\n",
    "def explore(name):\n",
    "    with gzip.open(name, 'rt', encoding='utf8') as f:\n",
    "        for _ in range(4):\n",
    "            l = f.readline().strip()\n",
    "            liste = l.split('\\t')\n",
    "            print(liste)"
   ]
  },
  {
   "cell_type": "code",
   "execution_count": 24,
   "id": "cf9a6d3e",
   "metadata": {
    "ExecuteTime": {
     "end_time": "2024-10-17T19:38:38.400704Z",
     "start_time": "2024-10-17T19:38:38.376163Z"
    }
   },
   "outputs": [
    {
     "name": "stdout",
     "output_type": "stream",
     "text": [
      "First lines of title.principals.tsv.gz:\n",
      "['tconst', 'ordering', 'nconst', 'category', 'job', 'characters']\n",
      "['tt0000001', '1', 'nm1588970', 'self', '\\\\N', '[\"Self\"]']\n",
      "['tt0000001', '2', 'nm0005690', 'director', '\\\\N', '\\\\N']\n",
      "['tt0000001', '3', 'nm0005690', 'producer', 'producer', '\\\\N']\n",
      "First lines of name.basics.tsv.gz:\n",
      "['nconst', 'primaryName', 'birthYear', 'deathYear', 'primaryProfession', 'knownForTitles']\n",
      "['nm0000001', 'Fred Astaire', '1899', '1987', 'actor,miscellaneous,producer', 'tt0050419,tt0072308,tt0053137,tt0027125']\n",
      "['nm0000002', 'Lauren Bacall', '1924', '2014', 'actress,soundtrack,archive_footage', 'tt0037382,tt0075213,tt0117057,tt0038355']\n",
      "['nm0000003', 'Brigitte Bardot', '1934', '\\\\N', 'actress,music_department,producer', 'tt0057345,tt0049189,tt0056404,tt0054452']\n",
      "First lines of title.basics.tsv.gz:\n",
      "['tconst', 'titleType', 'primaryTitle', 'originalTitle', 'isAdult', 'startYear', 'endYear', 'runtimeMinutes', 'genres']\n",
      "['tt0000001', 'short', 'Carmencita', 'Carmencita', '0', '1894', '\\\\N', '1', 'Documentary,Short']\n",
      "['tt0000002', 'short', 'Le clown et ses chiens', 'Le clown et ses chiens', '0', '1892', '\\\\N', '5', 'Animation,Short']\n",
      "['tt0000003', 'short', 'Poor Pierrot', 'Pauvre Pierrot', '0', '1892', '\\\\N', '5', 'Animation,Comedy,Romance']\n"
     ]
    }
   ],
   "source": [
    "for file in files:\n",
    "    print(f\"First lines of {file}:\")\n",
    "    explore(file)"
   ]
  },
  {
   "cell_type": "markdown",
   "id": "f838cd31",
   "metadata": {},
   "source": [
    "- How many movie entries are present in the retrieved database?\n",
    "- How many people entries?"
   ]
  },
  {
   "cell_type": "markdown",
   "id": "057c1a01",
   "metadata": {},
   "source": [
    "Your answer here."
   ]
  },
  {
   "cell_type": "markdown",
   "id": "65cb0e09-33f2-4945-a87b-c377534ef2ca",
   "metadata": {},
   "source": [
    "<span style=\"color:blue\"><b>Solution :</b></span>\n",
    "On cherche à présent à compter le nombre de films et de personnes présents dans la base de données. Pour cela :\n",
    "- On intialise deux compteurs (`count_movies` et `count_people`) à zéro pour stocker le nombre de films et de personnes trouvés dans les fichiers.\n",
    "- Pour énumérer le nombre de films, on ouvre le premier fichier (`file1`) contenant des informations sur les titres. Pour chaque ligne du fichier, on la découpe en éléments à l'aide de `split('\\t')`. Ensuite, si le deuxième élément de la ligne (l'index 1) correspond à 'movie', cela indique qu'il s'agit d'un film, et on incrémente le compteur `count_movies`.\n",
    "- Pour ce qui en est des personnes, on fait un traitement similaire en utilisant le deuxième fichier (`file2`), qui contient des informations sur les noms. On lit chaque ligne et on la découpe en éléments. Si la ligne n'est pas vide et que le premier élément existe, cela signifie qu'il s'agit d'une entrée valide représentant une personne, et on incrémente le compteur `count_people` de 1."
   ]
  },
  {
   "cell_type": "code",
   "execution_count": 28,
   "id": "25adc2a9-7e94-4bdf-bc3a-0c48daf3ca14",
   "metadata": {},
   "outputs": [
    {
     "name": "stdout",
     "output_type": "stream",
     "text": [
      "number of movies 697071\n",
      "number of people 13944219\n"
     ]
    }
   ],
   "source": [
    "def movies_entries(file1,file2):\n",
    "    count_movies = 0\n",
    "    count_people = 0 \n",
    "    with gzip.open(file1, 'rt', encoding='utf8') as f1:\n",
    "        for l in f1 :\n",
    "            liste = l.split('\\t')\n",
    "            if liste[1] == 'movie' :\n",
    "                 count_movies += 1 \n",
    "        print('number of movies' , count_movies)\n",
    "    with gzip.open(file2, 'rt', encoding='utf8') as f2:\n",
    "        for k in f2 :\n",
    "            liste2 = k.split('\\t')\n",
    "            if len(liste2) > 0 and liste2[0] != '':\n",
    "                 count_people += 1 \n",
    "        print('number of people' , count_people)\n",
    "        \n",
    "\n",
    "file_1 = \"title.basics.tsv.gz\"\n",
    "file_2 = \"name.basics.tsv.gz\"\n",
    "movies_entries(file_1, file_2)\n",
    "\n"
   ]
  },
  {
   "cell_type": "markdown",
   "id": "95a1834e",
   "metadata": {},
   "source": [
    "## Exercise 3: Extract"
   ]
  },
  {
   "cell_type": "markdown",
   "id": "c0baa525",
   "metadata": {},
   "source": [
    "We want to study the relations between actors and movies. In particular, we focus on:\n",
    "- Actual movies (e.g. not TV shows or short movies), where the movie year is known and at least one actor/actress is credited.\n",
    "- Actors that are credited in at least one actual movie."
   ]
  },
  {
   "cell_type": "markdown",
   "id": "04e4f501",
   "metadata": {},
   "source": [
    "To start with, build a [Python set](https://docs.python.org/3/tutorial/datastructures.html#sets) that contains all movie ids (`tconst`) such that:\n",
    "- The type of movie (`titleType`) is `movie`;\n",
    "- The year (`startYear`) exists, i.e. is an integer.\n",
    "\n",
    "How many movies have you referenced in the set?"
   ]
  },
  {
   "cell_type": "markdown",
   "id": "088f7448",
   "metadata": {},
   "source": [
    "Your answer here."
   ]
  },
  {
   "cell_type": "markdown",
   "id": "fcb700de-c0cc-4bee-9e1c-e4bd21947f35",
   "metadata": {},
   "source": [
    "<span style=\"color:blue\"><b>Solution :</b></span>\n",
    "Dans cette partie du code, l'idée était de créer un ensemble, `true_movies`, qui va contenir les identifiants des films valides.\n",
    "- Pour ça, on ouvre d'abord le fichier `title.basics.tsv.gz` en mode lecture texte, en spécifiant l'encodage UTF-8 pour bien gérer les caractères spéciaux.\n",
    "- Ensuite, on parcourt chaque ligne du fichier et on découpe les informations avec `split('\\t')` pour récupérer les différents champs de chaque film.\n",
    "-  Ce qu'on veut, c'est filtrer uniquement les films, donc on vérifie que la deuxième colonne de chaque ligne est bien `'movie'`, ce qui nous permet d'ignorer les séries ou autres types.\n",
    "- Ensuite, on s'assure que l'année de sortie, qui est dans la cinquième colonne, est un nombre valide en utilisant `isdigit()`. Si tout cela est vérifié, on récupère l'identifiant du film, qu'on ajoute à l'ensemble `true_movies` pour qu'au final, cet ensemble contienne uniquement les films qui ont une année de sortie valide et qui sont bien des films."
   ]
  },
  {
   "cell_type": "code",
   "execution_count": 34,
   "id": "bc3b14be",
   "metadata": {
    "ExecuteTime": {
     "end_time": "2024-10-17T19:38:38.409679Z",
     "start_time": "2024-10-17T19:38:38.406709Z"
    }
   },
   "outputs": [],
   "source": [
    "true_movies = set()\n",
    "with gzip.open(\"title.basics.tsv.gz\", 'rt', encoding='utf8') as f:\n",
    "        for l in f: \n",
    "            liste = l.split('\\t') \n",
    "            if liste[1] == 'movie' and liste[5].isdigit(): \n",
    "                true_movies.add(liste[0]) \n",
    "\n",
    "     \n"
   ]
  },
  {
   "cell_type": "code",
   "execution_count": 35,
   "id": "c04fc45e",
   "metadata": {
    "ExecuteTime": {
     "end_time": "2024-10-17T19:38:56.966996Z",
     "start_time": "2024-10-17T19:38:56.955330Z"
    },
    "colab": {
     "base_uri": "https://localhost:8080/"
    },
    "id": "c04fc45e",
    "outputId": "0afd8c75-eb3b-4071-b26e-6db6e909a696"
   },
   "outputs": [
    {
     "data": {
      "text/plain": [
       "595755"
      ]
     },
     "execution_count": 35,
     "metadata": {},
     "output_type": "execute_result"
    }
   ],
   "source": [
    "len(true_movies)"
   ]
  },
  {
   "cell_type": "markdown",
   "id": "0214f16f",
   "metadata": {},
   "source": [
    "Now we want to build two lists, `movies` and `actors`:\n",
    "\n",
    "- Each element of `movies` should represent a movie, each element of `actors` an actor or actress;\n",
    "- A movie is represented by a list of three elements:\n",
    "  - The original name of the movie (`str`),\n",
    "  - The principal actors of the movie, stored as a list whose elements are integers that represent the index (position) of the actors in the list `actors`,\n",
    "  - The movie year, `startYear` (`int`);\n",
    "- An actor/actress is represented by a list of two elements:\n",
    "  - The name of the person (`str`),\n",
    "  - The movies the person acted in, stored as a list whose elements are integers that represent the index (position) of the movies in the list `movies`.\n",
    "  "
   ]
  },
  {
   "cell_type": "markdown",
   "id": "76909c4d",
   "metadata": {},
   "source": [
    "Build these two lists.\n",
    "\n",
    "A possible way to do this:\n",
    "- Initiate `movies` and `actors` as empty lists;\n",
    "- Create two auxiliary dictionary that will associate to each movie id (`tconst`) and person id (`nconst`) their position in the list;\n",
    "- Read the file `title.principals.tsv.gz` line by line:\n",
    "  - Ignore any line where the movie is not in the set `true_movies` or the `category` of the relation is not `actor` or `actress`,\n",
    "  - If the movie id `tconst` is not in the movie auxiliary index, append an empty movie to `movies` (`[\"\", [], 0]`) and update the movie auxiliary index with an entry for `tconst`,\n",
    "  - If the actor id `nconst` is not in the actor auxiliary index, append an empty actor to `actors` (`[\"\", []]`) and update the actor auxiliary index with an entry for `nconst`,\n",
    "  - Append the movie index (not `tconst`!) to the movies of the corresponding actor in `actors`,\n",
    "  - Append the actor index (not `nconst`!) to the actors of the corresponding movie in `movies`;\n",
    "- There can be a few undesired duplicates, e.g. some actors can have multiple entries for the same movies. For each actor, remove possible duplicates in the list of movies, and for each movie, remove possible duplicates in the list of actors;\n",
    "- Using `title.basics.tsv.gz` and your movie auxiliary index, populate each movie in `movies` with its correct name (`str`) and year (`int`);\n",
    "- Using `name.basics.tsv.gz` and your actor auxiliary index, populate each actor in `movies` with her correct name."
   ]
  },
  {
   "cell_type": "markdown",
   "id": "5a3de220",
   "metadata": {},
   "source": [
    "Your answer here."
   ]
  },
  {
   "cell_type": "markdown",
   "id": "aac6046d-bfb1-464e-b998-5f25d269c81f",
   "metadata": {},
   "source": [
    "<span style=\"color:blue\"><b>Solution :</b></span>\n",
    "Pour répondre à cette question, on a construit deux listes : une pour les films (movies) et une pour les acteurs/actrices (actors). L idée était de lier chaque film à ses acteurs et chaque acteur à ses films, en utilisant des indices pour faire les correspondances. \n",
    "- On a commencé par créer deux dictionnaires, movie_id_to_index et actor_id_to_index, qui nous permettent de retrouver rapidement l indice d un film ou d un acteur dans leurs listes respectives.\n",
    "- Ensuite, on a ouvert le fichier title.principals.tsv.gz et on a parcouru chaque ligne pour récupérer les informations sur les films et les acteurs. À chaque ligne, on vérifie d abord si le film fait partie de notre liste de \"true_movies\" et si la catégorie est bien \"actor\" ou \"actress\". Si ces conditions sont remplies, on ajoute l acteur à la liste des acteurs du film, et on ajoute le film à la liste des films de l acteur.\n",
    "- Le problème qui est survenu, c’est qu’un acteur peut parfois apparaître plusieurs fois pour le même film, ce qui entraîne des doublons dans les listes. ChatGPT nous a alors aider à résoudre ce problème en utilisant la fonction set(), ce qui nous a permis de supprimer les duplicatas dans les deux listes, aussi bien pour les films que pour les acteurs.\n",
    "- Ensuite, pour compléter les informations, on a ouvert le fichier title.basics.tsv.gz et on a utilisé les indices des films stockés dans notre dictionnaire movie_id_to_index pour ajouter le nom du film et son année de sortie à chaque entrée de la liste movies. Si l’année n’était pas valide ou absente, on a défini une valeur par défaut de 0. De même, on a ouvert name.basics.tsv.gz pour récupérer les noms des acteurs en utilisant les indices stockés dans actor_id_to_index."
   ]
  },
  {
   "cell_type": "code",
   "execution_count": 40,
   "id": "a42fbd2b-7a30-43ef-b250-dcbfa20974ee",
   "metadata": {},
   "outputs": [
    {
     "name": "stdout",
     "output_type": "stream",
     "text": [
      "Total movies: 470189\n",
      "Total actors: 1197712\n"
     ]
    }
   ],
   "source": [
    "movie_id_to_index = {}\n",
    "actor_id_to_index = {}\n",
    "movies = []\n",
    "actors = []\n",
    "\n",
    "def movies_actors():\n",
    "    with gzip.open(\"title.principals.tsv.gz\", 'rt', encoding='utf8') as f:\n",
    "        for l in f:\n",
    "            liste = l.strip().split('\\t')\n",
    "            tconst = liste[0]\n",
    "            nconst = liste[2]\n",
    "            category = liste[3]\n",
    "\n",
    "            if tconst in true_movies and category in ('actor', 'actress'):\n",
    "                \n",
    "            \n",
    "                if tconst not in movie_id_to_index:\n",
    "                    movie_index = len(movies)\n",
    "                    movies.append([\"\", [], 0])  \n",
    "                    movie_id_to_index[tconst] = movie_index\n",
    "                else:\n",
    "                    movie_index = movie_id_to_index[tconst]\n",
    "\n",
    "               \n",
    "                if nconst not in actor_id_to_index:\n",
    "                    actor_index = len(actors)\n",
    "                    actors.append([\"\", []])  \n",
    "                    actor_id_to_index[nconst] = actor_index\n",
    "                else:\n",
    "                    actor_index = actor_id_to_index[nconst]\n",
    "\n",
    "               \n",
    "                actors[actor_index][1].append(movie_index)\n",
    "                movies[movie_index][1].append(actor_index)\n",
    "\n",
    "   \n",
    "    for actor in actors:\n",
    "        actor[1] = list(set(actor[1]))  \n",
    "    for movie in movies:\n",
    "        movie[1] = list(set(movie[1]))  \n",
    "\n",
    "  \n",
    "    with gzip.open(\"title.basics.tsv.gz\", 'rt', encoding='utf8') as f:\n",
    "        for l in f:\n",
    "            l = l.strip()\n",
    "            liste = l.split('\\t')\n",
    "            tconst = liste[0]\n",
    "            if tconst in movie_id_to_index:\n",
    "                movie_index = movie_id_to_index[tconst]\n",
    "                movies[movie_index][0] = liste[2] \n",
    "                try:\n",
    "                    movies[movie_index][2] = int(liste[5])  \n",
    "                except ValueError:\n",
    "                    movies[movie_index][2] = 0  \n",
    "\n",
    "   \n",
    "    with gzip.open(\"name.basics.tsv.gz\", 'rt', encoding='utf8') as f:\n",
    "        for l in f:\n",
    "            l = l.strip()\n",
    "            liste = l.split('\\t')\n",
    "            nconst = liste[0]\n",
    "            if nconst in actor_id_to_index:\n",
    "                actor_index = actor_id_to_index[nconst]\n",
    "                actors[actor_index][0] = liste[1]  \n",
    "\n",
    "\n",
    "movies_actors()\n",
    "\n",
    "\n",
    "print(\"Total movies:\", len(movies))\n",
    "print(\"Total actors:\", len(actors))\n"
   ]
  },
  {
   "cell_type": "markdown",
   "id": "b7e0e0a1",
   "metadata": {},
   "source": [
    "Manually check that your files are correct. For example, try to get the name and year of the movies Michel Blanc played in, or the actors of the first Harry Potter movie."
   ]
  },
  {
   "cell_type": "markdown",
   "id": "47e2fb0c",
   "metadata": {},
   "source": [
    "Your answer here (if everything went well, you just need to execute the two cells below)."
   ]
  },
  {
   "cell_type": "code",
   "execution_count": 43,
   "id": "8a99a258",
   "metadata": {
    "ExecuteTime": {
     "end_time": "2024-10-17T19:42:06.206220Z",
     "start_time": "2024-10-17T19:42:05.934950Z"
    }
   },
   "outputs": [
    {
     "data": {
      "text/plain": [
       "\"Les petites victoires (2023), The Best Way to Walk (1976), The Favour, the Watch and the Very Big Fish (1991), Gramps Is in the Resistance (1983), Take a Chance on Me (2023), Dream one (1984), Move Along, There is Nothing to See (1983), Uranus (1990), R.A.I.D. Special Unit (2016), Cause toujours... tu m'intéresses! (1979), Out of Whack (1979), You Are So Beautiful (2005), Prospero's Books (1991), The Horse of Pride (1980), Summer Things (2002), Ma femme s'appelle reviens (1982), Separate Bedrooms (1989), Toxic Affair (1993), The Girl on the Train (2009), The Minister (2011), Kiss & Tell (2018), The Witnesses (2007), The New Beaujolais Wine Has Arrived... (1978), Odd Job (2016), Le routard (2025), Madame Edouard (2004), The Day I Saw Your Heart (2011), The Hundred-Foot Journey (2014), A Spot of Bother (2009), Top Dogs (2022), Viens chez moi, j'habite chez une copine (1981), You Won't Have Alsace-Lorraine (1977), A Good Doctor (2019), Marche à l'ombre (1984), I Hate Actors (1986), Santa Claus Is a Stinker (1982), Ménage (1986), To Catch a Cop (1984), Drôle de samedi (1985), Monsieur Hire (1989), The Monster (1994), Les Tuche 4 (2021), The Other One's Mug (1979), Merci La Vie (1991), French Fried Vacation (1978), Une nuit à l'Assemblée Nationale (1988), French Fried Vacation 3: Friends Forever (2006), The Second Wind (2007), School's Out (2008), Dead Tired (1994), Demi-soeur (2013), Memories (2014), French Fried Vacation 2 (1979), Musée haut, musée bas (2008), The New Adventures of Aladdin (2015), Les grands ducs (1996)\""
      ]
     },
     "execution_count": 43,
     "metadata": {},
     "output_type": "execute_result"
    }
   ],
   "source": [
    "', '.join([f\"{movies[i][0]} ({movies[i][2]})\" for i in [a for a in actors if a[0]=='Michel Blanc'][0][1]])"
   ]
  },
  {
   "cell_type": "code",
   "execution_count": 44,
   "id": "6c0142eb",
   "metadata": {
    "ExecuteTime": {
     "end_time": "2024-10-17T19:42:06.412937Z",
     "start_time": "2024-10-17T19:42:06.211288Z"
    }
   },
   "outputs": [
    {
     "data": {
      "text/plain": [
       "'Saunders Triplets, Harry Melling, Daniel Radcliffe, Maggie Smith, Richard Griffiths, Fiona Shaw, Richard Harris, Robbie Coltrane, Rupert Grint, Emma Watson'"
      ]
     },
     "execution_count": 44,
     "metadata": {},
     "output_type": "execute_result"
    }
   ],
   "source": [
    "', '.join([actors[i][0] for i in [m for m in movies if m[0].startswith('Harry Potter')][0][1]])"
   ]
  },
  {
   "cell_type": "markdown",
   "id": "d22f946c",
   "metadata": {},
   "source": [
    "When you have successfully reached this point of the project, you can save the two lists `movies` and `actors` as compressed json files using the code below:"
   ]
  },
  {
   "cell_type": "code",
   "execution_count": 46,
   "id": "4dcd8c6b",
   "metadata": {
    "ExecuteTime": {
     "end_time": "2024-10-17T19:42:53.461002Z",
     "start_time": "2024-10-17T19:42:06.416962Z"
    },
    "id": "27638009"
   },
   "outputs": [],
   "source": [
    "import gzip\n",
    "import json\n",
    "\n",
    "with gzip.open('movies.json.gz', 'wt', encoding='utf8') as f:\n",
    "    json.dump(movies, f)\n",
    "with gzip.open('actors.json.gz', 'wt', encoding='utf8') as f:\n",
    "    json.dump(actors, f)"
   ]
  },
  {
   "cell_type": "markdown",
   "id": "8547beb9",
   "metadata": {},
   "source": [
    "After your files have been saved, you do not need to re-execute all of the above each time your restart your notebook. Instead, you just need to reload `movies` and `actors` using the code below:"
   ]
  },
  {
   "cell_type": "code",
   "execution_count": 48,
   "id": "10f89c03",
   "metadata": {
    "ExecuteTime": {
     "end_time": "2024-10-17T19:43:04.301301Z",
     "start_time": "2024-10-17T19:42:53.463253Z"
    },
    "id": "10f89c03"
   },
   "outputs": [
    {
     "name": "stdout",
     "output_type": "stream",
     "text": [
      "Overwriting utils.py\n"
     ]
    }
   ],
   "source": [
    "%%writefile utils.py\n",
    "\n",
    "\n",
    "import gzip\n",
    "import json\n",
    "\n",
    "with gzip.open('movies.json.gz', 'rt', encoding='utf8') as f:\n",
    "    movies = json.load(f)\n",
    "with gzip.open('actors.json.gz', 'rt', encoding='utf8') as f:\n",
    "    actors = json.load(f)  \n",
    "print(\"done\")"
   ]
  },
  {
   "cell_type": "code",
   "execution_count": 49,
   "id": "ffd1cf3c-1960-4e7b-a0c6-ae89a5e7b7b4",
   "metadata": {},
   "outputs": [
    {
     "name": "stdout",
     "output_type": "stream",
     "text": [
      "done\n",
      "[['Miss Jerry', [0, 1, 2], 1894], ['Bohemios', [3, 4], 1905], ['The Story of the Kelly Gang', [5, 6, 7, 8, 9, 10, 11, 12, 13, 14], 1906], ['The Prodigal Son', [16, 17, 18, 15], 1907], ['Robbery Under Arms', [19, 20, 21, 22, 23, 24], 1907]]\n",
      "\n",
      "\n",
      "\n",
      "[['Blanche Bayliss', [0]], ['William Courtenay', [0, 2401, 12771, 1736, 88777, 2378, 11919, 11956, 12725, 1590, 11543, 1144, 2652]], ['Chauncey Depew', [0]], ['Antonio del Pozo', [1]], ['El Mochuelo', [1]]]\n"
     ]
    }
   ],
   "source": [
    "from utils import movies, actors\n",
    "\n",
    "print(movies[:5]) \n",
    "print(\"\\n\\n\")\n",
    "print(actors[:5]) "
   ]
  },
  {
   "cell_type": "markdown",
   "id": "9c68a909",
   "metadata": {},
   "source": [
    "**Important remark:** in what follows, you will have to build functions that use the two lists a lot. You should NOT reload the lists each time you call a function. Instead, ensure that the two lists are loaded in memory and use them directly."
   ]
  },
  {
   "cell_type": "markdown",
   "id": "0a45a5b0",
   "metadata": {},
   "source": [
    "## Exercise 4: Explore again (now on the curated dataset)"
   ]
  },
  {
   "cell_type": "markdown",
   "id": "6bc58de6",
   "metadata": {},
   "source": [
    "- How many actors do you have in the new dataset? How many movies?\n",
    "- In average, in how many movies played an actor?\n",
    "- In average, how many actors play in a movie?\n",
    "- What is the name of the actor that played in the most movies? How many movies did he feature in?\n",
    "- What is the oldest movie in the DB?"
   ]
  },
  {
   "cell_type": "markdown",
   "id": "259937c2",
   "metadata": {},
   "source": [
    "Your answer here."
   ]
  },
  {
   "cell_type": "markdown",
   "id": "24bee2e4-ac1d-4e6b-96e4-940bfacad937",
   "metadata": {},
   "source": [
    "<span style=\"color:blue\"><b>Solution :</b></span>\n",
    "\n",
    "<span style=\"color:green\"><b>Q1 :</b></span>  on commence par afficher le nombre total de films et d'acteurs dans les bases de données. On utilise len(actors) pour obtenir le nombre d'acteurs et len(movies) pour obtenir le nombre de films.\n",
    "\n",
    "<span style=\"color:green\"><b>Q2 :</b></span> L'objectif est de savoir combien de films au total ont été joués par tous les acteurs. Pour cela, on parcourt la liste des acteurs à l'aide d'une boucle for. Pour chaque acteur, on accède à la liste des films dans lesquels il a joué, grâce à actor[1] (la deuxième valeur du tuple représente un acteur, où chaque acteur est stocké sous la forme (id_actor, list_of_movies)). Ensuite, on ajoute la taille de cette liste (len(actor[1])) au total global nb_movie_played. Après avoir accumulé le nombre total de films, on calcule la moyenne des films par acteur en divisant ce total par le nombre d'acteurs (nb_actors). Si la division est possible, on affiche la moyenne.\n",
    "\n",
    "<span style=\"color:green\"><b>Q3 :</b></span> on nous demande combien d'acteurs apparaissent en moyenne dans chaque film. Comme dans la question précédente, on parcourt cette fois la liste des films, et pour chaque film , on compte combien d'acteurs sont associés au film en utilisant len(movie[1]). Le total des acteurs par film est ensuite divisé par le nombre de films (nb_movies) pour obtenir la moyenne. Si la liste de films est vide, la division ne se fait pas pour éviter une erreur de division par zéro.\n",
    "\n",
    "<span style=\"color:green\"><b>Q4 :</b></span> ici, on cherche l'acteur qui a joué dans le plus grand nombre de films. Pour cela, on initialise une variable max_nb_movies à zéro et une variable id_actor pour stocker l'identifiant de l'acteur. Ensuite, on parcourt chaque acteur et on compare le nombre de films dans lesquels il a joué avec max_nb_movies. Si un acteur a joué dans plus de films que le précédent maximum, on met à jour max_nb_movies et id_actor pour stocker le nouvel acteur avec le plus grand nombre de films. Enfin, après avoir parcouru tous les acteurs, on affiche l'identifiant de l'acteur et le nombre de films où il a joué.\n",
    "\n",
    "<span style=\"color:green\"><b>Q5 :</b></span> Cette dernière question nous demande de trouver le film le plus ancien. On initialise oldest_year à une valeur élevée (9999) pour garantir que n'importe quel film aura une année plus basse. Ensuite, on parcourt la liste des films et, pour chaque film, on vérifie si son année de sortie (çàd movie[2]) est plus ancienne que l'année que l'on garde en mémoire. Si c'est le cas, on met à jour la variable oldest_year et id_movie avec l'identifiant du film. À la fin de la boucle, on affiche l'identifiant du film le plus ancien et l'année de sa sortie."
   ]
  },
  {
   "cell_type": "code",
   "execution_count": 55,
   "id": "525e01b5-926b-4fe6-a4e2-4e7e84cdef3a",
   "metadata": {},
   "outputs": [
    {
     "name": "stdout",
     "output_type": "stream",
     "text": [
      "Nombre de films :  470189\n",
      "Nombre d'acteurs :  1197712\n",
      "Le nombre moyen de films par acteur est : 3.027677772285825\n",
      "Le nombre moyen d'acteurs par film :  7.712400757993063\n",
      "L'acteur qui a joué dans le plus de film :  Brahmanandam avec :  1122  films\n",
      "Le film le + ancien enregistré dans la bd est :  Miss Jerry joué en  1894\n"
     ]
    }
   ],
   "source": [
    "def count_actors_movies():\n",
    "    # Q1\n",
    "    nb_actors = len(actors)\n",
    "    nb_movies = len(movies)\n",
    "    print(\"Nombre de films : \", nb_movies)\n",
    "    print(\"Nombre d'acteurs : \", nb_actors)\n",
    "\n",
    "    # Q2\n",
    "    nb_movie_played = 0\n",
    "    nb_actors = len(actors)  \n",
    "\n",
    "    for actor in actors:\n",
    "        nb_movie_played += len(actor[1])  \n",
    "    if nb_actors: \n",
    "        average_number = nb_movie_played / nb_actors\n",
    "        print(\"Le nombre moyen de films par acteur est :\", average_number)\n",
    "\n",
    "    # Q3\n",
    "    nb_actors_per_movie = 0\n",
    "    for movie in movies :\n",
    "        nb_actors_per_movie +=  len(movie[1])\n",
    "    if nb_movies :\n",
    "        average_actors = nb_actors_per_movie / nb_movies\n",
    "    else : return \n",
    "    print(\"Le nombre moyen d'acteurs par film : \" , average_actors)\n",
    "    \n",
    "    \n",
    "    # Q4\n",
    "    id_actor = \"\"\n",
    "    max_nb_movies = 0\n",
    "    for actor in actors :\n",
    "        nb_movies = len(actor[1])\n",
    "        if nb_movies > max_nb_movies :\n",
    "            id_actor = actor[0]\n",
    "            max_nb_movies = nb_movies\n",
    "        else : \n",
    "            continue       \n",
    "    print(\"L'acteur qui a joué dans le plus de film : \", id_actor, \"avec : \" , max_nb_movies , \" films\") \n",
    "\n",
    "    # Q5\n",
    "    oldest_year = 9999\n",
    "    id_movie = \"\"\n",
    "    for movie in movies :\n",
    "        if int(movie[2]) > 0 :\n",
    "            if int(movie[2]) < oldest_year  :\n",
    "                oldest_year = int(movie[2])\n",
    "                id_movie = movie[0]\n",
    "        else : \n",
    "            continue\n",
    "    print(\"Le film le + ancien enregistré dans la bd est : \" ,id_movie , \"joué en \" , oldest_year)\n",
    "    \n",
    "count_actors_movies()\n",
    "\n"
   ]
  },
  {
   "cell_type": "markdown",
   "id": "2a56d009",
   "metadata": {},
   "source": [
    "## Exercise 5: Prepare some functions"
   ]
  },
  {
   "cell_type": "markdown",
   "id": "2756c3f5",
   "metadata": {},
   "source": [
    "Write the following functions\n",
    "- `search_movie(name: str) -> list`: return a list of movies whose name contains `name` (ignoring case). Each movie is described as a dictionary with keys `name`, `year`, and `index` (its position in `movies`)\n",
    "- `get_movie(i: int) -> dict`: returns the a json of the movie at position `i`, with following keys:\n",
    "  - `name` (`str`)\n",
    "  - `year` (`int`)\n",
    "  - `actors` (list of dictionaries with keys `name` and `index`)\n",
    "- `search_actor(name: str) -> list`: return a list of actors whose name contains `name` (ignoring case). Each actor is described as a dictionary with keys `name` and `index` (its position in `actor`)\n",
    "- `get_actor(i: int) -> dict`: returns the a json of the actor at position `i`, with following keys:\n",
    "  - `name` (`str`)\n",
    "  - `movies` (list of dictionaries with keys `name`, `year`, and `index`)"
   ]
  },
  {
   "cell_type": "markdown",
   "id": "106d1b7a",
   "metadata": {},
   "source": [
    "Your answer here."
   ]
  },
  {
   "cell_type": "markdown",
   "id": "55711c3f-d1be-49f0-affe-a293e25bfbbc",
   "metadata": {},
   "source": [
    "<span style=\"color:blue\"><b>Solution :</b></span>\n",
    "\n",
    "\n",
    "<span style=\"color:orange\"><b>NOTE:</b></span> Nous avons fait le choix d'écrire toutes ces fonctions dans un fichier utils.py car elles seront utilisées à différents moments du projet. Pour garantir que les modifications apportées à ce fichier sont bien prises en compte, nous avons utilisé la commande %%writefile -a utils.py pour ajouter les fonctions à ce fichier sans écraser son contenu existant.\n",
    "\n",
    "<span style=\"color:green\"><b>search_movie(name:str):</b></span> elle a pour but de rechercher dans une base de films ceux dont le nom contient un mot spécifique, tout en ignorant la casse.\n",
    "- Pour y parvenir, on a utilisé une expression régulière générée avec l'aide de ChatGPT. On utilise la fonction re.search() pour trouver une correspondance avec cette expression régulière dans le titre du film.\n",
    "- L'expression régulière qu'on a choisie est r'\\b' + re.escape(name) + r'\\b'. Le \\b permet de s'assurer qu'on cherche un mot entier. Cela évite par exemple de trouver des correspondances dans des morceaux de mots. Ensuite, on utilise re.escape(name) pour protéger le mot recherché contre d'éventuels caractères spéciaux, comme des parenthèses ou des points, qui pourraient altérer la recherche.\n",
    "- Enfin, on ajoute re.IGNORECASE pour ne pas tenir compte de la casse. Cela veut dire que peu importe si le mot est en majuscules ou minuscules, on le retrouvera dans les titres.\n",
    "\n",
    "  \n",
    "<span style=\"color:green\"><b>get_movie(i:int):</b></span> elle a pour but de récupérer les informations d'un film à partir de son index dans la liste movies, qui est une liste de films où chaque élément contient des détails comme le nom du film, l'année, etc.\n",
    "- On parcourt cette liste avec enumerate() pour trouver le film correspondant à l'index i.\n",
    "-  Ensuite, on se concentre sur les acteurs de ce film, en vérifiant dans la liste actors (qui contient des acteurs et les films auxquels ils participent).\n",
    "- On cherche simplement si l'index du film fait partie des films associés à chaque acteur. Dès qu'on a ces informations, on assemble tout ça dans un dictionnaire et on le retourne.\n",
    "\n",
    "\n",
    "<span style=\"color:green\"><b>search_actor(name:str):</b></span> a pour but de rechercher des acteurs dont le nom contient un mot spécifique, sans tenir compte de la casse. \n",
    "- Pour ça, on parcourt la liste `actors`, qui contient les noms des acteurs et les films auxquels ils participent. Pour chaque acteur, on utilise `re.fullmatch()`, qui permet de nous assurer que le nom de l'acteur correspond exactement au mot qu'on cherche, sans se tromper. C’est un peu comme si on cherchait le mot entier sans qu’il soit un sous-ensemble d’un autre mot.\n",
    "- Le + avec `re.fullmatch()`, c’est qu’on est sûr qu’on ne trouve que des correspondances exactes pour le mot entier On ajoute aussi `re.IGNORECASE`, ce qui fait que la recherche ignore la casse, donc peu importe si le nom de l’acteur est en majuscules ou minuscules, on le trouvera quand même.\n",
    "- Si une correspondance est trouvée, nous stockons le nom de l'acteur et son index dans la liste des résultats, et on renvoie cette liste à la fin.\n",
    "- Cela fonctionne un peu de la même façon que dans `search_movie()`, où l'on utilise aussi une expression régulière pour rechercher un mot dans les titres de films, avec re.IGNORECASE pour gérer la casse. La différence est que dans search_actor, on se concentre sur le nom des acteurs et on utilise fullmatch() pour une correspondance exacte du mot.\n",
    "\n",
    "\n",
    "<span style=\"color:green\"><b>get_actor(i: int):</b></span> a pour but de récupérer les infos d’un acteur à partir de son index dans la liste `actors`. Chaque acteur dans cette liste est représenté par un tuple, où le premier élément est le nom de l'acteur et le deuxième est une liste d'indices représentant les films auxquels cet acteur a participé dans la liste `movies`.\n",
    "- On commence par une boucle `for` où on parcourt la liste des acteurs. Pour chaque acteur, on vérifie si son index correspond à l'index donné en argument (`i`). Si c'est le cas, on crée une nouvelle liste `movie_list` pour y stocker les films associés à cet acteur.\n",
    "-  Ensuite, pour chaque indice de film dans `actor[1]` (la liste des indices de films de l'acteur), on récupère le film correspondant dans la liste `movies`. On crée alors un dictionnaire `movie_info` qui contient le nom du film (`movie[0]`), l'année de sortie (`movie[2]`), et l'index du film dans la liste (`movie_index`).\n",
    "-  Après avoir collecté toutes les informations sur les films de l'acteur, on construit un dictionnaire `actor_info` qui contient le nom de l'acteur et la liste de ses films sous la clé `'movies'`et qui sera retourné.\n"
   ]
  },
  {
   "cell_type": "code",
   "execution_count": 60,
   "id": "37fe3e43",
   "metadata": {
    "ExecuteTime": {
     "end_time": "2024-10-17T19:43:05.233997Z",
     "start_time": "2024-10-17T19:43:05.230641Z"
    }
   },
   "outputs": [
    {
     "name": "stdout",
     "output_type": "stream",
     "text": [
      "Appending to utils.py\n"
     ]
    }
   ],
   "source": [
    "%%writefile -a utils.py\n",
    "import re\n",
    "\n",
    "def search_movie(name: str) -> list:\n",
    "    search_result = []\n",
    "    for i, movie in enumerate(movies):  \n",
    "        if re.search(r'\\b' + re.escape(name) + r'\\b', movie[0], re.IGNORECASE):\n",
    "            result = {'name': movie[0], 'year': movie[2], 'index': i}\n",
    "            search_result.append(result)\n",
    "\n",
    "    return search_result  \n",
    "\n"
   ]
  },
  {
   "cell_type": "code",
   "execution_count": 61,
   "id": "30953e5e-b1c0-460a-b970-be69f37eec64",
   "metadata": {},
   "outputs": [
    {
     "name": "stdout",
     "output_type": "stream",
     "text": [
      "done\n"
     ]
    }
   ],
   "source": [
    "import importlib\n",
    "import utils\n",
    "importlib.reload(utils)\n",
    "from utils import search_movie"
   ]
  },
  {
   "cell_type": "code",
   "execution_count": 62,
   "id": "217e55ee-2e2b-4196-9493-af0a9e42c8a4",
   "metadata": {},
   "outputs": [
    {
     "name": "stdout",
     "output_type": "stream",
     "text": [
      "[{'name': 'The Gendarme of Saint-Tropez', 'year': 1964, 'index': 41003}, {'name': 'The Gendarme in New York', 'year': 1965, 'index': 42674}, {'name': 'The Gendarme Gets Married', 'year': 1968, 'index': 44456}, {'name': 'The Gendarme Takes Off', 'year': 1970, 'index': 46404}, {'name': 'The Gendarme and the Extra-Terrestrials', 'year': 1979, 'index': 55244}, {'name': 'The Gendarme and the Gendarmettes', 'year': 1982, 'index': 58338}, {'name': 'The Gendarme of Champignol', 'year': 1959, 'index': 92831}, {'name': 'El gendarme de la esquina', 'year': 1951, 'index': 116185}, {'name': \"Hainburg - Je t'aime, gendarme\", 'year': 2001, 'index': 145905}, {'name': 'Le gendarme de Abobo', 'year': 2019, 'index': 319665}]\n"
     ]
    }
   ],
   "source": [
    "movies_found = search_movie(\"gendarme\")\n",
    "print(movies_found)"
   ]
  },
  {
   "cell_type": "code",
   "execution_count": 63,
   "id": "b649b418",
   "metadata": {
    "ExecuteTime": {
     "end_time": "2024-10-17T19:43:05.250391Z",
     "start_time": "2024-10-17T19:43:05.236005Z"
    }
   },
   "outputs": [
    {
     "name": "stdout",
     "output_type": "stream",
     "text": [
      "Appending to utils.py\n"
     ]
    }
   ],
   "source": [
    "%%writefile -a utils.py\n",
    "from utils import movies,actors\n",
    "\n",
    "def get_movie(i):\n",
    "    movie_infos = {}\n",
    "    list_of_actors = []\n",
    "\n",
    "    for j, movie in enumerate(movies):\n",
    "        if j == i:\n",
    "            for k, actor in enumerate(actors):\n",
    "                if i in actor[1]: \n",
    "                    actor_info = {'name': actor[0], 'index': k}\n",
    "                    list_of_actors.append(actor_info)\n",
    "                    \n",
    "            movie_infos = {\n",
    "                'name': movie[0],\n",
    "                'year': movie[2],\n",
    "                'actors': list_of_actors\n",
    "            }\n",
    "            return movie_infos \n"
   ]
  },
  {
   "cell_type": "code",
   "execution_count": 64,
   "id": "76025fdb-5c3b-4711-aa66-82d13a282d64",
   "metadata": {},
   "outputs": [
    {
     "name": "stdout",
     "output_type": "stream",
     "text": [
      "done\n"
     ]
    }
   ],
   "source": [
    "import importlib\n",
    "import utils\n",
    "importlib.reload(utils)\n",
    "from utils import get_movie"
   ]
  },
  {
   "cell_type": "code",
   "execution_count": 65,
   "id": "07069332-5fc4-4800-a44d-7659e4a0bf4d",
   "metadata": {},
   "outputs": [
    {
     "name": "stdout",
     "output_type": "stream",
     "text": [
      "{'name': 'Brontosaurus', 'year': 1980, 'actors': [{'name': 'Pavla Marsálková', 'index': 69663}, {'name': 'Josef Somr', 'index': 71798}, {'name': 'Daniela Kolárová', 'index': 79803}, {'name': 'Zdenek Sverák', 'index': 93309}, {'name': 'Dana Vávrová', 'index': 100561}, {'name': 'Michal Hofbauer', 'index': 100869}, {'name': 'Tomás Simek', 'index': 107137}, {'name': 'Lukás Bech', 'index': 107138}, {'name': 'Petra Fiserová', 'index': 107139}, {'name': 'Sárka Fiserová', 'index': 107140}]}\n"
     ]
    }
   ],
   "source": [
    "from utils import get_movie\n",
    "result = get_movie(55030)\n",
    "print(result)"
   ]
  },
  {
   "cell_type": "code",
   "execution_count": 66,
   "id": "8fef96a8-342b-42ab-b042-00cc4d78c666",
   "metadata": {},
   "outputs": [
    {
     "name": "stdout",
     "output_type": "stream",
     "text": [
      "Appending to utils.py\n"
     ]
    }
   ],
   "source": [
    "%%writefile -a utils.py\n",
    "from utils import movies,actors\n",
    "\n",
    "def search_actor(name):\n",
    "    search_actor = []\n",
    "    for i, actor in enumerate(actors) :\n",
    "       if re.fullmatch(r'\\b' + name + r'\\b', actor[0], re.IGNORECASE):\n",
    "           result = {'name': actor[0], 'index': i  }\n",
    "           search_actor.append(result)           \n",
    "    return search_actor\n"
   ]
  },
  {
   "cell_type": "code",
   "execution_count": 67,
   "id": "111fc267-a622-43dc-b419-245c7c715054",
   "metadata": {},
   "outputs": [
    {
     "name": "stdout",
     "output_type": "stream",
     "text": [
      "done\n"
     ]
    }
   ],
   "source": [
    "importlib.reload(utils)\n",
    "from utils import search_actor"
   ]
  },
  {
   "cell_type": "code",
   "execution_count": 68,
   "id": "363ee6f4-3221-4a80-b701-f77d8ed57074",
   "metadata": {},
   "outputs": [
    {
     "name": "stdout",
     "output_type": "stream",
     "text": [
      "[{'name': 'Ramy A. Razek', 'index': 548072}]\n"
     ]
    }
   ],
   "source": [
    "actor_info = search_actor('Ramy A. Razek')\n",
    "print(actor_info)"
   ]
  },
  {
   "cell_type": "code",
   "execution_count": 69,
   "id": "0810cf12-06f1-4aa1-93d2-bc5dc5ffc8f5",
   "metadata": {
    "ExecuteTime": {
     "end_time": "2024-10-17T19:43:05.278733Z",
     "start_time": "2024-10-17T19:43:05.267214Z"
    }
   },
   "outputs": [
    {
     "name": "stdout",
     "output_type": "stream",
     "text": [
      "Appending to utils.py\n"
     ]
    }
   ],
   "source": [
    "%%writefile -a utils.py\n",
    "from utils import movies,actors\n",
    "\n",
    "def get_actor(i):\n",
    "    for j, actor in enumerate(actors) :\n",
    "        movie_list= []\n",
    "        if i == j :\n",
    "            name = actor[0]\n",
    "            for movie_index in actor[1]:\n",
    "                movie = movies[movie_index]  # Accèder au film à l'indice donné\n",
    "                movie_info = {'name': movie[0], 'year': movie[2], 'index': movie_index}\n",
    "                movie_list.append(movie_info)\n",
    "            \n",
    "            actor_info = {\n",
    "                'name': name,\n",
    "                'movies': movie_list\n",
    "            }\n",
    "    \n",
    "    return actor_info    "
   ]
  },
  {
   "cell_type": "code",
   "execution_count": 70,
   "id": "6e7a4e32-cdaa-4753-a51a-4dfdd25981e2",
   "metadata": {},
   "outputs": [
    {
     "name": "stdout",
     "output_type": "stream",
     "text": [
      "done\n",
      "{'name': 'Ryan Blomberg', 'movies': [{'name': 'Never Go Back', 'year': 2020, 'index': 232536}]}\n"
     ]
    }
   ],
   "source": [
    "importlib.reload(utils)\n",
    "from utils import get_actor\n",
    "\n",
    "print(get_actor(548029)) "
   ]
  },
  {
   "cell_type": "code",
   "execution_count": 71,
   "id": "d846d30a",
   "metadata": {
    "ExecuteTime": {
     "end_time": "2024-10-17T19:43:05.688562Z",
     "start_time": "2024-10-17T19:43:05.338687Z"
    }
   },
   "outputs": [
    {
     "data": {
      "text/plain": [
       "[{'name': \"Les P'tits Bronzés au Pyrénéen\", 'year': 2013, 'index': 445126}]"
      ]
     },
     "execution_count": 71,
     "metadata": {},
     "output_type": "execute_result"
    }
   ],
   "source": [
    "search_movie('bronzés')"
   ]
  },
  {
   "cell_type": "code",
   "execution_count": 72,
   "id": "a1b4bdb5",
   "metadata": {
    "ExecuteTime": {
     "end_time": "2024-10-17T19:43:05.706974Z",
     "start_time": "2024-10-17T19:43:05.693583Z"
    }
   },
   "outputs": [
    {
     "data": {
      "text/plain": [
       "{'name': 'Brontosaurus',\n",
       " 'year': 1980,\n",
       " 'actors': [{'name': 'Pavla Marsálková', 'index': 69663},\n",
       "  {'name': 'Josef Somr', 'index': 71798},\n",
       "  {'name': 'Daniela Kolárová', 'index': 79803},\n",
       "  {'name': 'Zdenek Sverák', 'index': 93309},\n",
       "  {'name': 'Dana Vávrová', 'index': 100561},\n",
       "  {'name': 'Michal Hofbauer', 'index': 100869},\n",
       "  {'name': 'Tomás Simek', 'index': 107137},\n",
       "  {'name': 'Lukás Bech', 'index': 107138},\n",
       "  {'name': 'Petra Fiserová', 'index': 107139},\n",
       "  {'name': 'Sárka Fiserová', 'index': 107140}]}"
      ]
     },
     "execution_count": 72,
     "metadata": {},
     "output_type": "execute_result"
    }
   ],
   "source": [
    "get_movie(55030)"
   ]
  },
  {
   "cell_type": "code",
   "execution_count": 73,
   "id": "db320a18-e3c2-4651-91e5-c341b2a685a1",
   "metadata": {},
   "outputs": [
    {
     "data": {
      "text/plain": [
       "{'name': 'Bohemios',\n",
       " 'year': 1905,\n",
       " 'actors': [{'name': 'Antonio del Pozo', 'index': 3},\n",
       "  {'name': 'El Mochuelo', 'index': 4}]}"
      ]
     },
     "execution_count": 73,
     "metadata": {},
     "output_type": "execute_result"
    }
   ],
   "source": [
    "get_movie(1)"
   ]
  },
  {
   "cell_type": "code",
   "execution_count": 74,
   "id": "5386b177",
   "metadata": {
    "ExecuteTime": {
     "end_time": "2024-10-17T19:43:06.239351Z",
     "start_time": "2024-10-17T19:43:05.712548Z"
    }
   },
   "outputs": [
    {
     "data": {
      "text/plain": [
       "[{'name': 'Daniel Radcliffe', 'index': 277317}]"
      ]
     },
     "execution_count": 74,
     "metadata": {},
     "output_type": "execute_result"
    }
   ],
   "source": [
    "search_actor('Daniel Radcliffe')"
   ]
  },
  {
   "cell_type": "code",
   "execution_count": 75,
   "id": "0cdf68ef-9665-4c01-9b14-8e158b4a7103",
   "metadata": {},
   "outputs": [
    {
     "data": {
      "text/plain": [
       "[{'name': 'Jean Dujardin', 'index': 329574}]"
      ]
     },
     "execution_count": 75,
     "metadata": {},
     "output_type": "execute_result"
    }
   ],
   "source": [
    "search_actor('jean dujardin')"
   ]
  },
  {
   "cell_type": "code",
   "execution_count": 76,
   "id": "6aa2edaf-415f-476f-9257-fc7b334e53ae",
   "metadata": {},
   "outputs": [
    {
     "data": {
      "text/plain": [
       "{'name': 'Daniel Radcliffe',\n",
       " 'movies': [{'name': 'Playmobil: The Movie', 'year': 2019, 'index': 397185},\n",
       "  {'name': 'Swiss Army Man', 'year': 2016, 'index': 394630},\n",
       "  {'name': 'Escape from Pretoria', 'year': 2020, 'index': 421517},\n",
       "  {'name': 'The Lost City', 'year': 2022, 'index': 241935},\n",
       "  {'name': 'Weird: The Al Yankovic Story', 'year': 2022, 'index': 283921},\n",
       "  {'name': 'Harry Potter and the Deathly Hallows: Part 2',\n",
       "   'year': 2011,\n",
       "   'index': 226975},\n",
       "  {'name': 'Victor Frankenstein', 'year': 2015, 'index': 298528},\n",
       "  {'name': 'Harry Potter and the Prisoner of Azkaban',\n",
       "   'year': 2004,\n",
       "   'index': 145911},\n",
       "  {'name': 'National Theatre Live: Rosencrantz & Guildenstern Are Dead',\n",
       "   'year': 2017,\n",
       "   'index': 435621},\n",
       "  {'name': 'Now You See Me 2', 'year': 2016, 'index': 363827},\n",
       "  {'name': 'Kill Your Darlings', 'year': 2013, 'index': 239158},\n",
       "  {'name': 'Guns Akimbo', 'year': 2019, 'index': 436286},\n",
       "  {'name': 'Beast of Burden', 'year': 2018, 'index': 427076},\n",
       "  {'name': 'Now You See Me 3', 'year': 2025, 'index': 404936},\n",
       "  {'name': 'Harry Potter and the Half-Blood Prince',\n",
       "   'year': 2009,\n",
       "   'index': 175179},\n",
       "  {'name': 'Imperium', 'year': 2016, 'index': 405836},\n",
       "  {'name': 'What If', 'year': 2013, 'index': 263245},\n",
       "  {'name': 'The Woman in Black', 'year': 2012, 'index': 276176},\n",
       "  {'name': 'Harry Potter and the Deathly Hallows: Part 1',\n",
       "   'year': 2010,\n",
       "   'index': 196954},\n",
       "  {'name': \"Harry Potter and the Sorcerer's Stone\",\n",
       "   'year': 2001,\n",
       "   'index': 124512},\n",
       "  {'name': 'Harry Potter and the Chamber of Secrets',\n",
       "   'year': 2002,\n",
       "   'index': 143846},\n",
       "  {'name': 'The Tailor of Panama', 'year': 2001, 'index': 122982},\n",
       "  {'name': 'Harry Potter and the Order of the Phoenix',\n",
       "   'year': 2007,\n",
       "   'index': 165608},\n",
       "  {'name': 'Lost in London', 'year': 2017, 'index': 429297},\n",
       "  {'name': 'Horns', 'year': 2013, 'index': 268274},\n",
       "  {'name': 'Harry Potter and the Goblet of Fire',\n",
       "   'year': 2005,\n",
       "   'index': 153715},\n",
       "  {'name': 'Jungle', 'year': 2017, 'index': 390007},\n",
       "  {'name': 'December Boys', 'year': 2007, 'index': 184188}]}"
      ]
     },
     "execution_count": 76,
     "metadata": {},
     "output_type": "execute_result"
    }
   ],
   "source": [
    "get_actor(277317)"
   ]
  },
  {
   "cell_type": "markdown",
   "id": "69f7ed05",
   "metadata": {},
   "source": [
    "Write a function `movie_path(origin: int, destination: int) -> distance: int, path: list` that computes the collaboration distance between two actors. That distance is the length of the shortest path `(origin, act1, act2, ..., actX, destination)`, where `origin` and `act` played in the same movie, `act1` and `act2` played in the same movie, ... and\n",
    "`actX` and `destination` played in the same movie.  In addition to the distance, the response should include one shortest path between the two actors, as a list of the form `[\"origin_name\", \"movie1_name\", \"act1_name\", \"movie2_name\", ..., \"destination_name\"]`, where `movie1` is a movie that featured `origin` and `act1`, and so on...\n",
    "\n",
    "In particular:\n",
    "- One actor is by convention at distance 0 from herself. The return path should be `[\"origin_name\"]` then;\n",
    "- Two distinct actors that play in the same movie are at distance 1;\n",
    "- If there is no connection between two actors, the function should return `-1, []` by convention.\n",
    "\n",
    "**Important remarks**: `movie_path` is tricky. You need to try to implement it but you are allowed to fail. If you are stuck for too long, please explain what you did/try and what blocked you in your opinion. Then move on."
   ]
  },
  {
   "cell_type": "markdown",
   "id": "4891e967",
   "metadata": {},
   "source": [
    "Your answer here."
   ]
  },
  {
   "cell_type": "code",
   "execution_count": 79,
   "id": "04493bcb",
   "metadata": {
    "ExecuteTime": {
     "end_time": "2024-10-17T19:43:06.270394Z",
     "start_time": "2024-10-17T19:43:06.264363Z"
    },
    "slideshow": {
     "slide_type": "-"
    }
   },
   "outputs": [],
   "source": [
    "def movie_path(origin, destination):\n",
    "    ..."
   ]
  },
  {
   "cell_type": "code",
   "execution_count": 80,
   "id": "618d8d56",
   "metadata": {
    "ExecuteTime": {
     "end_time": "2024-10-17T19:43:06.881055Z",
     "start_time": "2024-10-17T19:43:06.305024Z"
    }
   },
   "outputs": [
    {
     "data": {
      "text/plain": [
       "[{'name': 'Jean Dujardin', 'index': 329574}]"
      ]
     },
     "execution_count": 80,
     "metadata": {},
     "output_type": "execute_result"
    }
   ],
   "source": [
    "search_actor('jean dujardin')"
   ]
  },
  {
   "cell_type": "code",
   "execution_count": 81,
   "id": "094e4131",
   "metadata": {
    "ExecuteTime": {
     "end_time": "2024-10-17T19:43:07.427983Z",
     "start_time": "2024-10-17T19:43:06.883581Z"
    }
   },
   "outputs": [
    {
     "data": {
      "text/plain": [
       "[{'name': 'Kiefer Sutherland', 'index': 123745}]"
      ]
     },
     "execution_count": 81,
     "metadata": {},
     "output_type": "execute_result"
    }
   ],
   "source": [
    "search_actor('kiefer sutherland')"
   ]
  },
  {
   "cell_type": "code",
   "execution_count": 82,
   "id": "a668c49f",
   "metadata": {
    "ExecuteTime": {
     "end_time": "2024-10-17T19:43:07.793184Z",
     "start_time": "2024-10-17T19:43:07.431005Z"
    }
   },
   "outputs": [
    {
     "data": {
      "text/plain": [
       "[{'name': 'Kevin Bacon', 'index': 105317},\n",
       " {'name': 'Kevin Bacon', 'index': 1142807}]"
      ]
     },
     "execution_count": 82,
     "metadata": {},
     "output_type": "execute_result"
    }
   ],
   "source": [
    "search_actor('kevin bacon')"
   ]
  },
  {
   "cell_type": "code",
   "execution_count": 83,
   "id": "fd4c5a02",
   "metadata": {
    "ExecuteTime": {
     "end_time": "2024-10-17T19:43:08.403011Z",
     "start_time": "2024-10-17T19:43:07.795197Z"
    }
   },
   "outputs": [
    {
     "data": {
      "text/plain": [
       "[{'name': 'Louis de Funès', 'index': 38481}]"
      ]
     },
     "execution_count": 83,
     "metadata": {},
     "output_type": "execute_result"
    }
   ],
   "source": [
    "search_actor('louis de funès')"
   ]
  },
  {
   "cell_type": "code",
   "execution_count": 84,
   "id": "1b84573a",
   "metadata": {
    "ExecuteTime": {
     "end_time": "2024-10-17T19:43:08.411160Z",
     "start_time": "2024-10-17T19:43:08.405410Z"
    }
   },
   "outputs": [],
   "source": [
    "movie_path(105311, 105311)"
   ]
  },
  {
   "cell_type": "code",
   "execution_count": 85,
   "id": "803e62b6",
   "metadata": {
    "ExecuteTime": {
     "end_time": "2024-10-17T19:43:08.449073Z",
     "start_time": "2024-10-17T19:43:08.414171Z"
    }
   },
   "outputs": [],
   "source": [
    "movie_path(105311, 329504)"
   ]
  },
  {
   "cell_type": "code",
   "execution_count": 86,
   "id": "75aeb408",
   "metadata": {
    "ExecuteTime": {
     "end_time": "2024-10-17T19:43:08.879702Z",
     "start_time": "2024-10-17T19:43:08.453082Z"
    }
   },
   "outputs": [],
   "source": [
    "movie_path(38476, 123737)"
   ]
  },
  {
   "cell_type": "code",
   "execution_count": 87,
   "id": "648f605d",
   "metadata": {
    "ExecuteTime": {
     "end_time": "2024-10-17T19:43:09.104561Z",
     "start_time": "2024-10-17T19:43:08.881726Z"
    }
   },
   "outputs": [
    {
     "data": {
      "text/plain": [
       "[{'name': 'The Gendarme of Saint-Tropez', 'year': 1964, 'index': 41003},\n",
       " {'name': 'The Gendarme in New York', 'year': 1965, 'index': 42674},\n",
       " {'name': 'The Gendarme Gets Married', 'year': 1968, 'index': 44456},\n",
       " {'name': 'The Gendarme Takes Off', 'year': 1970, 'index': 46404},\n",
       " {'name': 'The Gendarme and the Extra-Terrestrials',\n",
       "  'year': 1979,\n",
       "  'index': 55244},\n",
       " {'name': 'The Gendarme and the Gendarmettes', 'year': 1982, 'index': 58338},\n",
       " {'name': 'The Gendarme of Champignol', 'year': 1959, 'index': 92831},\n",
       " {'name': 'El gendarme de la esquina', 'year': 1951, 'index': 116185},\n",
       " {'name': \"Hainburg - Je t'aime, gendarme\", 'year': 2001, 'index': 145905},\n",
       " {'name': 'Le gendarme de Abobo', 'year': 2019, 'index': 319665}]"
      ]
     },
     "execution_count": 87,
     "metadata": {},
     "output_type": "execute_result"
    }
   ],
   "source": [
    "search_movie('gendarme')"
   ]
  },
  {
   "cell_type": "markdown",
   "id": "8dc481ff",
   "metadata": {
    "id": "8dc481ff"
   },
   "source": [
    "## Exercise 6. Provide a Web API"
   ]
  },
  {
   "cell_type": "markdown",
   "id": "e4781467-74ea-4954-acfc-6766d46a1997",
   "metadata": {
    "id": "e4781467-74ea-4954-acfc-6766d46a1997"
   },
   "source": [
    "Using Python and the Bottle package, build a web server that implements the following API:\n",
    "- `/movies/{id}` : where `id` is the index of a movie, returns the corresponding movie as a json (cf `get_movie`).\n",
    "- `/movies` : returns by default the first 100 movies. The value 100 can be modified by sending a URL parameter `limit`.\n",
    "- `/actors/{id}` : where `id` is the index of an author, returns the json of the actor (cf `get_actor`).\n",
    "- `/actors` : returns by default the first 100 actors. The value 100 can be modified by sending a URL parameter `limit`.\n",
    "- `/actors/{id}/costars` : returns the co-stars of one actor (actors that play in a same movie).\n",
    "- `/search/actors/{searchString}` : where `searchString` is a string to lookup one actor. This route should return the actors whose name contains `searchString` (for example, `/search/actors/w` returns the actors whose name contains `w` or `W`).\n",
    "- `/search/movies/{searchString}`: where `searchString` is a string, returns the list of movies whose title contains `searchString`. The route should accept a URL parameter `filter` formatted like `key1:value1,key2:value2,...`  to restrain the search to the publications where key `keyi` contains `valuei`. For example, `/search/movies/gendarme?filter=year:1964`\n",
    "should return the list of movies where the title contains `gendarme` published in 1964.\n",
    "- `/actors/{id_origin}/distance/{id_destination}` : where `id_origin`\n",
    "and `id_destination` are two actor indices, returns the collaboration distance between the two actors. In addition to the distance, the response should include one shortest path between the two actors, e.g. the json you return should be a list of two elements, one integer and one list."
   ]
  },
  {
   "cell_type": "markdown",
   "id": "ba559bad-da30-4081-adb1-996022a82d69",
   "metadata": {
    "id": "ba559bad-da30-4081-adb1-996022a82d69"
   },
   "source": [
    "The developed API should have the following characteristics:\n",
    "\n",
    "- All errors should have the same format.\n",
    "- In absence of error, the API should always return a `json`.\n",
    "- Each route must be documented with the return format, possible errors, and an explanation of parameters.\n",
    "- Each route that returns a list should return a maximum of 100 elements and should accept URL parameters `start` and `limit` to display `limit` elements starting from the `start`-th element. For example: `/actors` should return the first 100 authors, `/actors?start=100` displays the next 100, and `/actors?start=200&limit=2` displays the next 2 elements.\n",
    "- For each route that returns a list, the returned elements should be sortable based on a given field using a URL parameter `order`. For example: `/movies?order=year` displays the first 100 movies sorted by year."
   ]
  },
  {
   "cell_type": "markdown",
   "id": "00c20fcd",
   "metadata": {},
   "source": [
    "Your answer here."
   ]
  },
  {
   "cell_type": "markdown",
   "id": "413b3048-a958-4d94-8062-94d1acecf388",
   "metadata": {},
   "source": [
    "<span style=\"color:blue\"><b>Solution :</b></span>\r\n",
    "\r\n",
    "- `/movies/<id:int>` - Récupère un film par ID. --> La fonction movie_by_id reçoit un ID de film depuis l'URL et appelle la fonction get_movie(id) pour obtenir les détails du film. Si le film existe, il le retourne au format JSON. Sinon, elle renvoie une réponse d'erreur avec un statut 404 et le message \"Film non trouvé\".\r\n",
    "\r\n",
    "- `/movies` - Récupère une liste de films avec des options de filtrage par début, limite, et ordre. --> La fonction movies_list gère les paramètres de requête optionnels start, limit, et order : - start : Définit l'index de départ pour la liste des films (par défaut 0). - limit : Limite le nombre de films retournés (par défaut 100). - order : Trie les films soit par year (année) ou name (nom), si spécifié. Les champs d'ordre invalides renvoient une erreur 400. Elle récupère les films, applique le tri (si applicable) et retourne la liste filtrée des films au format JSON.\r\n",
    "\r\n",
    "- `/actors/<id:int>` - Récupère un acteur par ID. --> La fonction actor_by_id prend un ID d'acteur, appelle get_actor(id) pour obtenir les détails de l'acteur, et retourne les informations de l'acteur au format JSON. Si l'acteur n'est pas trouvé, une erreur 404 est renvoyée avec le message \"Acteur non trouvé\". En cas d'erreur lors de la récupération, une erreur 404 est également renvoyée.\r\n",
    "\r\n",
    "- `/actors` - Récupère une liste d'acteurs avec tri et pagination optionnels. --> La fonction actors_list gère les paramètres de requête start, limit, et order : - start : Définit l'index de départ pour la liste des acteurs (par défaut 0). - limit : Limite le nombre d'acteurs retournés (par défaut 100). - order : Spécifie l'ordre des acteurs en fonction de leur nom ou index. Si un tri est demandé, la liste des acteurs est triée en conséquence ; si des critères d'ordre invalides sont fournis, une erreur 400 est renvoyée. Elle retourne la liste d'acteurs triée et paginée au format JSON.\r\n",
    "\r\n",
    "- `/actors/<id:int>/costars` - Récupère une liste des co-stars d'un acteur. --> La fonction actor_costars reçoit un ID d'acteur, vérifie si l'acteur existe et, dans ce cas, récupère tous les films dans lesquels il a joué. Elle trouve ensuite les autres acteurs ayant joué dans ces mêmes films (co-stars) et les retourne en tant que liste au format JSON. Si l'acteur n'existe pas, une erreur 404 est renvoyée avec le message \"Acteur non trouvé\".\r\n",
    "\r\n",
    "- `/search/actors/<searchString>` - Recherche des acteurs par chaîne de recherche. --> La fonction search_actors appelle search_actor(searchString) pour trouver tous les acteurs correspondant à la chaîne de recherche. Elle retourne ensuite les 100 premiers acteurs correspondants au format JSON.\r\n",
    "\r\n",
    "- `/search/movies/<searchString>` - Recherche des films par chaîne de recherche, avec filtrage optionnel. --> La fonction search_movies permet de rechercher des films par nom, avec un paramètre de requête filter optionnel : - filter : Une liste de paires clé-valeur séparées par des virgules pour filtrer, comme year:1964. Elle filtre les films correspondants selon les critères de filtrage fournis (par exemple, année). Les résultats sont retournés sous forme de tableau JSON des films filtrés. Les 100 premiers films correspondants sont retournés.\r\n",
    "\r\n",
    "Gestion des Erreurs\r\n",
    "\r\n",
    "- Erreur 404 : Si la ressource demandée n'est pas trouvée, l'API renvoie une réponse JSON avec le message d'erreur \"Non trouvé\".\r\n",
    "- Erreur 400 : En cas de demande incorrecte, comme des paramètres invalides, l'API renvoie une réponse JSON avec le message d'erreur \n",
    "\n",
    "<span style=\"color:orange\"><b>NOTE :</b></span> Nous avons fait appel aux fonctions get_movie, search_actor ...etc qui figurent dans le fichier utils.py via : <span style=\"color:gray\"><b>from utils import movies, actors ,get_movie,get_actor,search_actor,search_movie :</b></span>.\"Mauvaise demande\".\"Mauvaise demande\"."
   ]
  },
  {
   "cell_type": "code",
   "execution_count": 92,
   "id": "df4a7be3-0ef9-400b-b666-cb3abea1054d",
   "metadata": {},
   "outputs": [
    {
     "name": "stdout",
     "output_type": "stream",
     "text": [
      "Overwriting app_movies_actors.py\n"
     ]
    }
   ],
   "source": [
    "%%writefile app_movies_actors.py\n",
    "\n",
    "from gevent import monkey\n",
    "monkey.patch_all()\n",
    "from bottle import Bottle, request, response, run\n",
    "from bottle import route, run, response  \n",
    "from utils import movies, actors ,get_movie,get_actor,search_actor,search_movie\n",
    "import json \n",
    "import gzip\n",
    "import threading\n",
    "from bottle import route, run, response  \n",
    "\n",
    "app = Bottle()\n",
    "\n",
    "def error_response(status, message):\n",
    "    response.status = status\n",
    "    return json.dumps({\"error\": message})\n",
    "\n",
    "# ***************************************************************\n",
    "@app.route('/movies/<id>', methods=['GET'])\n",
    "def movie_by_id(id):\n",
    "    try: \n",
    "        id = int(id)\n",
    "    except ValueError:\n",
    "        return error_response(400, \"Invalid movie ID\")  \n",
    "\n",
    "    if id < 0 or id >= len(movies):\n",
    "        return error_response(400, \"Invalid movie ID\")  \n",
    "    movie = get_movie(id)\n",
    "    if not movie:\n",
    "        return error_response(404, \"Movie not found\")  \n",
    "    return movie\n",
    "\n",
    "#*******************************************************************\n",
    "@app.route('/movies', method='GET')\n",
    "def movies_list():\n",
    "    start = 0  \n",
    "    limit = 100  \n",
    "    order = None \n",
    "    if 'start' in request.params:\n",
    "        try:\n",
    "            start = int(request.params['start'])\n",
    "        except ValueError:\n",
    "            return error_response(400, \"Invalid 'start' parameter\")\n",
    "\n",
    "    if 'limit' in request.params:\n",
    "        try:\n",
    "            limit = int(request.params['limit'])\n",
    "        except ValueError:\n",
    "            return error_response(400, \"Invalid 'limit' parameter\")\n",
    "\n",
    "    if 'order' in request.params:\n",
    "        order = request.params['order']\n",
    "        \n",
    "    sorted_movies = movies\n",
    "    if order:\n",
    "        if order == 'year':\n",
    "            sorted_movies = sorted(movies, key=lambda m: m[2])  \n",
    "        elif order == 'name':\n",
    "            sorted_movies = sorted(movies, key=lambda m: m[0])  \n",
    "        else:\n",
    "            return error_response(400, \"Invalid order field\")\n",
    "\n",
    "    selected_movies = sorted_movies[start:start + limit]\n",
    "    return json.dumps([{'name': m[0], 'year': m[2], 'index': i} for i, m in enumerate(selected_movies)])\n",
    "\n",
    "# *************************************************************************************************************\n",
    "@app.route('/actors/<id>', methods=['GET'])\n",
    "def actor_by_id(id):\n",
    "    try: \n",
    "        id = int(id)\n",
    "    except ValueError:\n",
    "        return error_response(400, \"Invalid actor ID\")  \n",
    "\n",
    "    if id < 0 or id >= len(actors):\n",
    "        return error_response(400, \"Invalid actor ID\")  \n",
    "    actor = get_actor(id)\n",
    "    if not actor:\n",
    "        return error_response(404, \"Actor not found\")  \n",
    "    return actor\n",
    "    \n",
    "# **********************************************************************************************************\n",
    "@app.route('/actors')\n",
    "def actors_list():\n",
    "    start = 0\n",
    "    limit = 100\n",
    "    order = None  \n",
    "    if 'start' in request.params:\n",
    "        try:\n",
    "            start = int(request.params['start'])\n",
    "        except ValueError:\n",
    "            return error_response(400, \"Invalid 'start' parameter\")\n",
    "\n",
    "    if 'limit' in request.params:\n",
    "        try:\n",
    "            limit = int(request.params['limit'])\n",
    "        except ValueError:\n",
    "            return error_response(400, \"Invalid 'limit' parameter\")\n",
    "\n",
    "    if 'order' in request.params:\n",
    "        order = request.params['order']\n",
    "\n",
    "    sorted_actors = actors\n",
    "    if order:\n",
    "        try:\n",
    "            sorted_actors = sorted(actors, key=lambda a: a[0] if order == 'name' else a[1])\n",
    "        except KeyError:\n",
    "            return error_response(400, \"Invalid order field\")\n",
    "\n",
    "    selected_actors = sorted_actors[start:start + limit]\n",
    "    return json.dumps([{'name': a[0], 'index': i} for i, a in enumerate(selected_actors)])\n",
    "\n",
    "# ************************************************************************************************\n",
    "@app.route('/actors/<id:int>/costars')\n",
    "def actor_costars(id):\n",
    "    if id < 0 or id >= len(actors):\n",
    "        return error_response(404, \"Actor not found\")\n",
    "    \n",
    "    actor_movies = actors[id][1]\n",
    "    costars = set()\n",
    "\n",
    "    for movie_id in actor_movies:\n",
    "        movie = movies[movie_id]\n",
    "        costars.update(movie[1])\n",
    "\n",
    "    costars.discard(id)  \n",
    "    costar_list = [{'name': actors[c][0], 'index': c} for c in costars]\n",
    "    return json.dumps(costar_list)\n",
    "\n",
    "\n",
    "# ****************************************************************************************************\n",
    "@app.route('/search/actors/<searchString>')\n",
    "def search_actors(searchString):\n",
    "    matching_actors = search_actor(searchString)\n",
    "    return json.dumps(matching_actors[:100])\n",
    "\n",
    "\n",
    "# ***************************************************************************************************\n",
    "@app.route('/search/movies/<searchString>')\n",
    "def search_movies(searchString):\n",
    "    filter_param = request.query.filter\n",
    "    filter_criteria = {}\n",
    "\n",
    "    if filter_param:\n",
    "        filters = filter_param.split(',')\n",
    "        for f in filters:\n",
    "            key, value = f.split(':')\n",
    "            filter_criteria[key] = value\n",
    "\n",
    "    matching_movies = search_movie(searchString)\n",
    "    filtered_movies = []\n",
    "\n",
    "    for movie in matching_movies:\n",
    "        add_movie = True\n",
    "        for key, value in filter_criteria.items():\n",
    "            if key == 'year' and str(movie['year']) != value:\n",
    "                add_movie = False\n",
    "                break\n",
    "        if add_movie:\n",
    "            filtered_movies.append(movie)\n",
    "\n",
    "    return json.dumps(filtered_movies[:100])\n",
    "\n",
    "\n",
    "@app.error(404)\n",
    "def error404(error):\n",
    "    return json.dumps({\"error\": \"Not found\", \"message\": str(error)})\n",
    "\n",
    "@app.error(400)\n",
    "def error400(error):\n",
    "    return json.dumps({\"error\": \"Bad request\", \"message\": str(error)})\n"
   ]
  },
  {
   "cell_type": "markdown",
   "id": "ad7c3298-b1e4-4693-8618-3db862c45f95",
   "metadata": {},
   "source": [
    "<span style=\"color:blue\"><b>Solution :</b></span>\n",
    "\n",
    "Route d'accueil : --> Il s'agit de la page principale de l'application web. Lorsqu'elle est accédée via une requête GET, elle renvoie simplement le message \"Page principale\". C'est une route de type placeholder qui pourrait être développée ultérieurement pour fournir des informations générales sur l'API ou d'autres services."
   ]
  },
  {
   "cell_type": "code",
   "execution_count": 93,
   "id": "72fba010-aff0-49c7-a6ef-c554920c1405",
   "metadata": {},
   "outputs": [
    {
     "name": "stdout",
     "output_type": "stream",
     "text": [
      "Overwriting app_user.py\n"
     ]
    }
   ],
   "source": [
    "%%writefile app_user.py\n",
    "from bottle import Bottle, request, response, run\n",
    "import json\n",
    "from utils import  movies, actors, get_movie,get_actor,search_actor,search_movie\n",
    "\n",
    "app = Bottle()\n",
    "\n",
    "@app.route('/')\n",
    "def home():\n",
    "    return \"Page principale\""
   ]
  },
  {
   "cell_type": "markdown",
   "id": "ac4d493d-8636-4ebc-8e7e-cc41c8549d72",
   "metadata": {},
   "source": [
    "<span style=\"color:blue\"><b>Solution :</b></span>\n",
    "\n",
    "Configuration et Exécution de l'Application\n",
    "\n",
    "- L'application principale Bottle (app) est créée.\n",
    "- L'application app_movies_actors est montée sur le chemin racine (\"/\"), ce qui signifie que toutes les routes définies dans app_movies_actors seront accessibles depuis l'URL de base du serveur.\n",
    "- L'application app_user est intégrée dans l'application principale, ce qui rend toutes les routes définies dans app_user disponibles dans l'application principale.\n",
    "- Enfin, la méthode app.run() est appelée pour démarrer le serveur en utilisant le serveur gevent sur localhost au port 8080."
   ]
  },
  {
   "cell_type": "code",
   "execution_count": 94,
   "id": "bc26249e-56a6-4dfb-bfe9-9a29a32aa785",
   "metadata": {},
   "outputs": [
    {
     "name": "stdout",
     "output_type": "stream",
     "text": [
      "Overwriting runn.py\n"
     ]
    }
   ],
   "source": [
    "%%writefile runn.py\n",
    "\n",
    "from bottle import Bottle\n",
    "from gevent import monkey; monkey.patch_all()\n",
    "from app_movies_actors import app as app_movies_actors\n",
    "from app_user import app as app_user\n",
    "\n",
    "app = Bottle()\n",
    "app.mount(\"/\", app_movies_actors)\n",
    "app.merge(app_user)\n",
    "app.run(server=\"gevent\", host=\"localhost\", port=8080)"
   ]
  },
  {
   "cell_type": "code",
   "execution_count": 95,
   "id": "2a26a09c-0b5d-4846-83e9-2961b95e6166",
   "metadata": {},
   "outputs": [],
   "source": [
    "!wt python runn.py"
   ]
  },
  {
   "cell_type": "markdown",
   "id": "e1e29ad3",
   "metadata": {
    "id": "e1e29ad3"
   },
   "source": [
    "## Exercise 7. Test a Web API"
   ]
  },
  {
   "cell_type": "markdown",
   "id": "a7110e2c",
   "metadata": {
    "id": "a7110e2c"
   },
   "source": [
    "Using `pytest`, write a program that checks that the API made in the previous exercise works as expected."
   ]
  },
  {
   "cell_type": "markdown",
   "id": "252f540d",
   "metadata": {},
   "source": [
    "Your answer here."
   ]
  },
  {
   "cell_type": "markdown",
   "id": "22176ce5-2bfa-4933-8dbd-418ee1096ffc",
   "metadata": {},
   "source": [
    "<span style=\"color:blue\"><b>Solution :</b></span>\n",
    "\n",
    "<span style=\"color:green\"><b>` Tests pour la route /movies/<id:int> ` \n",
    "Cette section teste la récupération d'un film spécifique par son identifiant (ID).\n",
    "</b></span>\n",
    "\n",
    "* test_movie_by_id_valid :\n",
    "    - Vérifie qu'un ID de film valide retourne un statut 200 et inclut les clés 'name' et 'year' dans les données du film.\n",
    "    - Assure que l'API retourne bien les informations attendues pour un film existant.\n",
    "\n",
    "* test_movie_by_id_invalid_range :\n",
    "    - Vérifie que l'API retourne un statut 400 pour des ID non valides (négatifs ou trop grands), indiquant une erreur d'ID.\n",
    "    - Teste les limites de validité de l'ID pour identifier des erreurs d'entrée.\n",
    "\n",
    "* test_movie_by_id_invalid_type :\n",
    "    - Vérifie que l'utilisation d'un ID de type non numérique (comme une chaîne de caractères) retourne un statut 400,\n",
    "      confirmant que seuls les ID numériques sont acceptés.\n",
    "\n",
    "\n",
    "<span style=\"color:green\"><b>` Tests pour la route /movies avec des paramètres`\n",
    "Cette section teste l'affichage de la liste des films avec ou sans paramètres optionnels.\n",
    "</b></span>\n",
    "\n",
    "\n",
    "* test_movies_list_default :\n",
    "    - Vérifie que la route retourne une liste par défaut de films avec une limite maximum de 100 films.\n",
    "    - Assure que les valeurs par défaut de l'API sont correctement appliquées en l'absence de paramètres.\n",
    "\n",
    "* test_movies_list_start_limit :\n",
    "    - Vérifie que les paramètres 'start' et 'limit' sont pris en compte, permettant la pagination des résultats.\n",
    "    - Teste si la limite spécifiée est correctement appliquée.\n",
    "\n",
    "* test_movies_invalid_parameter :\n",
    "    - Vérifie que les paramètres de pagination invalides (comme 'start' non numérique) retournent un statut 400.\n",
    "    - Assure que l'API gère correctement les entrées incorrectes.\n",
    "\n",
    "* test_movies_ordre_by_year :\n",
    "    - Vérifie que la liste des films peut être triée par année, confirmant que le tri fonctionne sans erreur.\n",
    "\n",
    "* test_movies_invalid_order :\n",
    "    - Vérifie qu'un tri par un champ invalide retourne un statut 400, indiquant une gestion correcte des champs de tri.\n",
    "\n",
    "\n",
    "<span style=\"color:green\"><b>` Tests pour la route /actors/<id:int>`\n",
    "Cette section teste la récupération d'un acteur spécifique par son ID.\n",
    "</b></span>\n",
    "\n",
    "\n",
    "* test_actor_by_id_valid :\n",
    "    - Vérifie qu'un ID d'acteur valide retourne un statut 200 et inclut les clés 'name' et 'movies' dans les données de l'acteur.\n",
    "\n",
    "* test_actor_by_id_invalid_range :\n",
    "    - Vérifie qu'un ID d'acteur non valide (négatif ou trop grand) retourne un statut 400 et un message d'erreur.\n",
    "\n",
    "* test_actor_by_id_invalid_type :\n",
    "    - Vérifie qu'un ID d'acteur de type non numérique retourne un statut 400, confirmant que seuls les ID numériques sont acceptés.\n",
    "\n",
    "\n",
    "\n",
    "<span style=\"color:green\"><b>` Tests pour la route /actors avec des paramètres `\n",
    "Cette section teste la récupération de la liste des acteurs avec ou sans paramètres optionnels.\n",
    "</b></span>\n",
    "\n",
    "* test_actors_list_default :\n",
    "    - Vérifie que la liste des acteurs est limitée à 100 par défaut, testant ainsi les valeurs par défaut.\n",
    "\n",
    "* test_actors_list_start_limit :\n",
    "    - Vérifie que les paramètres 'start' et 'limit' contrôlent correctement la pagination.\n",
    "\n",
    "* test_actors_invalid_limit :\n",
    "    - Vérifie qu'un paramètre 'limit' non numérique retourne un statut 400, assurant la validation des paramètres.\n",
    " \n",
    "\n",
    "\n",
    "<span style=\"color:green\"><b> ` Tests pour la route /actors/<id>/costars `\n",
    "Cette section teste la récupération de la liste des co-stars d'un acteur donné.\n",
    "</b></span>\n",
    "\n",
    "* test_actors_costars_valid_ID :\n",
    "    - Vérifie qu'un ID d'acteur valide retourne une liste de co-stars sous forme de tableau.\n",
    "\n",
    "* test_actors_costars_invalid_ID :\n",
    "    - Vérifie qu'un ID d'acteur inexistant retourne un statut 404, confirmant le bon traitement des erreurs d'ID.\n",
    "\n",
    "\n",
    "<span style=\"color:green\"><b> ` Tests pour la route /search/actors/<searchString> `\n",
    "Cette section teste la recherche d'acteurs en fonction d'une chaîne de recherche.\n",
    "\n",
    "</b></span>\n",
    "\n",
    "* test_search_actors_valid :\n",
    "    - Vérifie qu'une recherche par nom retourne des acteurs dont les noms contiennent la chaîne donnée.\n",
    "\n",
    "* test_search_actors_empty_result :\n",
    "    - Vérifie qu'une recherche sans résultats correspondants retourne une liste vide, assurant la validité de la recherche.\n",
    "\n",
    "\n",
    "<span style=\"color:green\"><b> `  Tests pour la route /search/movies/<searchString>`\n",
    "Cette section teste la recherche de films en fonction d'une chaîne de recherche et de filtres.\n",
    "\n",
    "</b></span>\n",
    "\n",
    "* test_search_movies_valid :\n",
    "    - Vérifie qu'une recherche par titre de film retourne des films contenant la chaîne de recherche.\n",
    "\n",
    "* test_search_movies_search_by_year :\n",
    "    - Vérifie que le filtre par année retourne uniquement les films de l'année spécifiée.\n",
    "\n",
    "* test_search_movies_empty_result :\n",
    "    - Vérifie qu'une recherche sans résultats retourne une liste vide, validant la gestion des recherches infructueuses.\n",
    "\n",
    "Ressources : On a repris les exemple de cours mais on a du utiliser chatgpt aussi pour gérer quelques erreurs notamment celle du test de la limite par exemple."
   ]
  },
  {
   "cell_type": "code",
   "execution_count": 99,
   "id": "89ded1a2-739e-4148-9333-19b3fe9b3e37",
   "metadata": {},
   "outputs": [
    {
     "name": "stdout",
     "output_type": "stream",
     "text": [
      "Overwriting test_app.py\n"
     ]
    }
   ],
   "source": [
    "%%writefile test_app.py\n",
    "from requests import get\n",
    "from json import loads\n",
    "import threading\n",
    "import time\n",
    "import requests\n",
    "import pytest\n",
    "# from runn import run_server\n",
    "server_ip = \"localhost\"\n",
    "server_port = 8080\n",
    "\n",
    "\n",
    "# ---------- Test sur /movies/<id:int> route\n",
    "def test_movie_by_id_valid():\n",
    "    r1 = get(f\"http://{server_ip}:{server_port}/movies/55030\")\n",
    "    assert r1.status_code == 200\n",
    "    movie_data = loads(r1.text)\n",
    "    assert 'name' in movie_data\n",
    "    assert 'year' in movie_data\n",
    "\n",
    "def test_movie_by_id_invalid_range():\n",
    "    r2 = get(f\"http://{server_ip}:{server_port}/movies/-1\")\n",
    "    assert r2.status_code == 400  \n",
    "    error = loads(r2.text)\n",
    "    assert error[\"error\"] == \"Invalid movie ID\" \n",
    "    \n",
    "    r3 = get(f\"http://{server_ip}:{server_port}/movies/444554545454545\")\n",
    "    assert r3.status_code == 400  \n",
    "    error = loads(r3.text)\n",
    "    assert error[\"error\"] == \"Invalid movie ID\" \n",
    "\n",
    "def test_movie_by_id_invalid_type():\n",
    "    r4 = get(f\"http://{server_ip}:{server_port}/movies/hieuhfiehro\")\n",
    "    assert r4.status_code == 400  \n",
    "    error = loads(r4.text)\n",
    "    assert error[\"error\"] == \"Invalid movie ID\"  \n",
    "\n",
    "# ------------------------------ Test sur /movies route avec des paramètres différents\n",
    "def test_movies_list_default():\n",
    "    r1 = get(f\"http://{server_ip}:{server_port}/movies\")\n",
    "    assert r1.status_code == 200\n",
    "    movies_data = loads(r1.text)\n",
    "    assert len(movies_data) <= 100 \n",
    "\n",
    "def test_movies_list_start_limit():\n",
    "    r2 = get(f\"http://{server_ip}:{server_port}/movies?start=10&limit=5\")\n",
    "    assert r2.status_code == 200\n",
    "    movies_data = loads(r2.text)\n",
    "    assert len(movies_data) <= 5\n",
    "\n",
    "def test_movies_invalid_parameter():\n",
    "    r3 = get(f\"http://{server_ip}:{server_port}/movies?start=invalid\")\n",
    "    assert r3.status_code == 400\n",
    "    error = loads(r3.text)\n",
    "    assert error[\"error\"] == \"Invalid 'start' parameter\"\n",
    "\n",
    "def test_movies_ordre_by_year():\n",
    "    r4 = get(f\"http://{server_ip}:{server_port}/movies?order=year\")\n",
    "    assert r4.status_code == 200\n",
    "\n",
    "def test_movies_invalid_order():\n",
    "    r5 = get(f\"http://{server_ip}:{server_port}/movies?order=invalid\")\n",
    "    assert r5.status_code == 400\n",
    "    error = loads(r5.text)\n",
    "    assert error[\"error\"] == \"Invalid order field\"\n",
    "\n",
    "# ****************************************** Test for /actors/<id:int> route\n",
    "def test_actor_by_id_valid():\n",
    "    r1 = get(f\"http://{server_ip}:{server_port}/actors/548029\")\n",
    "    assert r1.status_code == 200\n",
    "    actor_data = loads(r1.text)\n",
    "    assert 'name' in actor_data\n",
    "    assert 'movies' in actor_data\n",
    "\n",
    "def test_actor_by_id_invalid_range():\n",
    "    r2 = get(f\"http://{server_ip}:{server_port}/actors/-5\")\n",
    "    assert r2.status_code == 400\n",
    "    error = loads(r2.text)\n",
    "    assert error[\"error\"] == \"Invalid actor ID\"\n",
    "\n",
    "    r3 = get(f\"http://{server_ip}:{server_port}/actors/444554545454545\")\n",
    "    assert r3.status_code == 400  \n",
    "    error = loads(r3.text)\n",
    "    assert error[\"error\"] == \"Invalid actor ID\"  \n",
    "\n",
    "def test_actor_by_id_invalid_type():\n",
    "    r4 = get(f\"http://{server_ip}:{server_port}/actors/sidhishsfohi\")\n",
    "    assert r4.status_code == 400  \n",
    "    error = loads(r4.text)\n",
    "    assert error[\"error\"] == \"Invalid actor ID\"  \n",
    "\n",
    "#*******************************Test pour /actors route avec différents paramètres\n",
    "def test_actors_list_default():\n",
    "    r1 = get(f\"http://{server_ip}:{server_port}/actors\")\n",
    "    assert r1.status_code == 200\n",
    "    actors_data = loads(r1.text)\n",
    "    assert len(actors_data) <= 100 \n",
    "\n",
    "def test_actors_list_start_limit():\n",
    "    r2 = get(f\"http://{server_ip}:{server_port}/actors?start=10&limit=5\")\n",
    "    assert r2.status_code == 200\n",
    "    actors_data = loads(r2.text)\n",
    "    assert len(actors_data) <= 5\n",
    "\n",
    "def test_actors_invalid_limit():   \n",
    "    r3 = get(f\"http://{server_ip}:{server_port}/actors?limit=invalid\")\n",
    "    assert r3.status_code == 400\n",
    "    error = loads(r3.text)\n",
    "    assert error[\"error\"] == \"Invalid 'limit' parameter\"\n",
    "\n",
    "# ****************************** Test pour /actors/<id>/costars route\n",
    "def test_actors_costars_valid_ID():\n",
    "    r1 = get(f\"http://{server_ip}:{server_port}/actors/548029/costars\")\n",
    "    assert r1.status_code == 200\n",
    "    costars_data = loads(r1.text)\n",
    "    assert isinstance(costars_data, list)\n",
    "\n",
    "def test_actors_costars_invalid_ID():\n",
    "    r2 = get(f\"http://{server_ip}:{server_port}/actors/99999999/costars\")\n",
    "    assert r2.status_code == 404\n",
    "    error = loads(r2.text)\n",
    "    assert error[\"error\"] == \"Actor not found\"\n",
    "\n",
    "    \n",
    "\n",
    "# ******************* Test pour /search/actors/<searchString> route\n",
    "def test_search_actors_valid():\n",
    "    r1 = get(f\"http://{server_ip}:{server_port}/search/actors/Daniel\")\n",
    "    assert r1.status_code == 200\n",
    "    actors_data = loads(r1.text)\n",
    "    assert all('Daniel' in actor['name'] for actor in actors_data)\n",
    "\n",
    "def test_search_actors_empty_result():\n",
    "    r2 = get(f\"http://{server_ip}:{server_port}/search/actors/NonexistentName\")\n",
    "    assert r2.status_code == 200\n",
    "    actors_data = loads(r2.text)\n",
    "    assert actors_data == []\n",
    "\n",
    "\n",
    "# ******************** Test pour /search/movies/<searchString> route\n",
    "def test_search_movies_valid():\n",
    "    r1 = get(f\"http://{server_ip}:{server_port}/search/movies/gendarme\")\n",
    "    assert r1.status_code == 200\n",
    "    movies_data = loads(r1.text)\n",
    "    assert all('gendarme' in movie['name'].lower() for movie in movies_data)\n",
    "\n",
    "\n",
    "def test_search_movies_search_by_year():\n",
    "    r2 = get(f\"http://{server_ip}:{server_port}/search/movies/gendarme?filter=year:1964\")\n",
    "    assert r2.status_code == 200\n",
    "    movies_data = loads(r2.text)\n",
    "    assert all(movie['year'] == 1964 for movie in movies_data)\n",
    "\n",
    " \n",
    "def test_search_movies_empty_result():\n",
    "    r3 = get(f\"http://{server_ip}:{server_port}/search/movies/NonexistentMovie\")\n",
    "    assert r3.status_code == 200\n",
    "    movies_data = loads(r3.text)\n",
    "    assert movies_data == []\n",
    "\n"
   ]
  },
  {
   "cell_type": "code",
   "execution_count": 100,
   "id": "469be790-e574-4dcb-8b33-22e43ebbc9b8",
   "metadata": {},
   "outputs": [
    {
     "name": "stdout",
     "output_type": "stream",
     "text": [
      "\u001b[1m============================= test session starts =============================\u001b[0m\n",
      "platform win32 -- Python 3.12.4, pytest-7.4.4, pluggy-1.0.0 -- D:\\anaconda\\python.exe\n",
      "cachedir: .pytest_cache\n",
      "rootdir: C:\\Users\\user\\OneDrive\\Bureau\n",
      "plugins: anyio-4.2.0\n",
      "\u001b[1mcollecting ... \u001b[0mcollected 21 items\n",
      "\n",
      "test_app.py::test_movie_by_id_valid \u001b[32mPASSED\u001b[0m\u001b[32m                               [  4%]\u001b[0m\n",
      "test_app.py::test_movie_by_id_invalid_range \u001b[32mPASSED\u001b[0m\u001b[32m                       [  9%]\u001b[0m\n",
      "test_app.py::test_movie_by_id_invalid_type \u001b[32mPASSED\u001b[0m\u001b[32m                        [ 14%]\u001b[0m\n",
      "test_app.py::test_movies_list_default \u001b[32mPASSED\u001b[0m\u001b[32m                             [ 19%]\u001b[0m\n",
      "test_app.py::test_movies_list_start_limit \u001b[32mPASSED\u001b[0m\u001b[32m                         [ 23%]\u001b[0m\n",
      "test_app.py::test_movies_invalid_parameter \u001b[32mPASSED\u001b[0m\u001b[32m                        [ 28%]\u001b[0m\n",
      "test_app.py::test_movies_ordre_by_year \u001b[32mPASSED\u001b[0m\u001b[32m                            [ 33%]\u001b[0m\n",
      "test_app.py::test_movies_invalid_order \u001b[32mPASSED\u001b[0m\u001b[32m                            [ 38%]\u001b[0m\n",
      "test_app.py::test_actor_by_id_valid \u001b[32mPASSED\u001b[0m\u001b[32m                               [ 42%]\u001b[0m\n",
      "test_app.py::test_actor_by_id_invalid_range \u001b[32mPASSED\u001b[0m\u001b[32m                       [ 47%]\u001b[0m\n",
      "test_app.py::test_actor_by_id_invalid_type \u001b[32mPASSED\u001b[0m\u001b[32m                        [ 52%]\u001b[0m\n",
      "test_app.py::test_actors_list_default \u001b[32mPASSED\u001b[0m\u001b[32m                             [ 57%]\u001b[0m\n",
      "test_app.py::test_actors_list_start_limit \u001b[32mPASSED\u001b[0m\u001b[32m                         [ 61%]\u001b[0m\n",
      "test_app.py::test_actors_invalid_limit \u001b[32mPASSED\u001b[0m\u001b[32m                            [ 66%]\u001b[0m\n",
      "test_app.py::test_actors_costars_valid_ID \u001b[32mPASSED\u001b[0m\u001b[32m                         [ 71%]\u001b[0m\n",
      "test_app.py::test_actors_costars_invalid_ID \u001b[32mPASSED\u001b[0m\u001b[32m                       [ 76%]\u001b[0m\n",
      "test_app.py::test_search_actors_valid \u001b[32mPASSED\u001b[0m\u001b[32m                             [ 80%]\u001b[0m\n",
      "test_app.py::test_search_actors_empty_result \u001b[32mPASSED\u001b[0m\u001b[32m                      [ 85%]\u001b[0m\n",
      "test_app.py::test_search_movies_valid \u001b[32mPASSED\u001b[0m\u001b[32m                             [ 90%]\u001b[0m\n",
      "test_app.py::test_search_movies_search_by_year \u001b[32mPASSED\u001b[0m\u001b[32m                    [ 95%]\u001b[0m\n",
      "test_app.py::test_search_movies_empty_result \u001b[32mPASSED\u001b[0m\u001b[32m                      [100%]\u001b[0m\n",
      "\n",
      "\u001b[32m============================= \u001b[32m\u001b[1m21 passed\u001b[0m\u001b[32m in 54.79s\u001b[0m\u001b[32m =============================\u001b[0m\n"
     ]
    }
   ],
   "source": [
    "!pytest -v test_app.py -p no:warnings"
   ]
  },
  {
   "cell_type": "markdown",
   "id": "2aa006cb",
   "metadata": {
    "id": "2aa006cb"
   },
   "source": [
    "## Exercise 8. Make a Website that uses the Web API"
   ]
  },
  {
   "cell_type": "markdown",
   "id": "2243ef46",
   "metadata": {
    "id": "2243ef46"
   },
   "source": [
    "Create a Python web server using the Bottle library that utilizes the Web API you developed to offer the user a graphical Web interface. This interface allows the user to obtain, by entering relevant information into a Web form:\n",
    "\n",
    "- The complete list of movies and the complete list of costars of an actor, possibly sorted alphabetically. This actor can be searched beforehand using a substring of characters appearing in her name.\n",
    "- The colloration distance between two actors. As above, the actors can be searched beforehand using a substring of characters appearing in their names. Try to format a bit (not too much). For example:\n",
    "  - The collaboration distance between Kevin Bacon and Jean Dujardin is 2.\n",
    "  - Kevin bacon played in Wild things with Bill Murray;\n",
    "  - Bill Murray played in The Monuments Men with Jean Dujardin."
   ]
  },
  {
   "cell_type": "markdown",
   "id": "6a761576",
   "metadata": {},
   "source": [
    "Your answer here."
   ]
  },
  {
   "cell_type": "markdown",
   "id": "92fd2dcb-3aad-432a-9677-05fc1154b734",
   "metadata": {},
   "source": [
    "<span style=\"color:blue\"><b>Solution :</b></span>\n",
    "\n",
    "- Nous avons demandé à chatgpt de nous générer ce template."
   ]
  },
  {
   "cell_type": "code",
   "execution_count": 104,
   "id": "28f9c847-cfe7-463a-a423-60299b36b551",
   "metadata": {},
   "outputs": [
    {
     "name": "stdout",
     "output_type": "stream",
     "text": [
      "Overwriting form.tpl\n"
     ]
    }
   ],
   "source": [
    "%%writefile form.tpl\n",
    "<html>\n",
    "<head><title>Movie & Actor Finder</title></head>\n",
    "<body>\n",
    "    <h1>Recherche de Films et Acteurs</h1>\n",
    "    <form action=\"/\" method=\"post\">\n",
    "        <label>Titre du film :</label>\n",
    "        <input type=\"text\" name=\"title\">\n",
    "        <input type=\"hidden\" name=\"action\" value=\"movie\">\n",
    "        <button type=\"submit\">Rechercher Film</button>\n",
    "    </form>\n",
    "    <br>\n",
    "    <form action=\"/\" method=\"post\">\n",
    "        <label>Nom de l'acteur :</label>\n",
    "        <input type=\"text\" name=\"name\">\n",
    "        <input type=\"hidden\" name=\"action\" value=\"actor\">\n",
    "        <button type=\"submit\">Rechercher Acteur</button>\n",
    "    </form>\n",
    "</body>\n",
    "</html>\n"
   ]
  },
  {
   "cell_type": "code",
   "execution_count": 105,
   "id": "a8b9e6bb-d492-42b9-9871-e549d8e168ed",
   "metadata": {},
   "outputs": [
    {
     "name": "stdout",
     "output_type": "stream",
     "text": [
      "Overwriting result.tpl\n"
     ]
    }
   ],
   "source": [
    "%%writefile result.tpl\n",
    "<html>\n",
    "<head><title>Résultats</title></head>\n",
    "<body>\n",
    "    <h1>Résultats</h1>\n",
    "    % if result:\n",
    "        <ul>\n",
    "        % for item in result:\n",
    "            <li>{{item}}</li>\n",
    "        % end\n",
    "        </ul>\n",
    "    % else:\n",
    "        <p>Aucun résultat trouvé.</p>\n",
    "    % end\n",
    "    <a href=\"/\">Retour</a>\n",
    "</body>\n",
    "</html>\n"
   ]
  },
  {
   "cell_type": "markdown",
   "id": "9402e608-e617-4ee6-ab9b-a6aa972a6a9a",
   "metadata": {},
   "source": [
    "<span style=\"color:blue\"><b>Solution :</b></span>\n",
    "\n",
    "- @app.get(\"/\")\n",
    "    - Affiche un formulaire permettant à l'utilisateur de choisir entre une recherche de film ou d'acteur.\n",
    "    - SORTIE : Retourne un template HTML 'form.tpl' contenant le formulaire pour l'entrée utilisateur.\n",
    "    \n",
    "- @app.post(\"/\")\n",
    "    - Traite les données du formulaire pour effectuer une recherche en fonction de la sélection de l'utilisateur.\n",
    "    - ENTRÉE (données du formulaire) : \n",
    "        - `action` : Type de recherche ('movie' pour film ou 'actor' pour acteur).\n",
    "        - `title` (si action == \"movie\") : Titre du film à rechercher.\n",
    "        - `name` (si action == \"actor\") : Nom de l'acteur à rechercher.\n",
    "    - SORTIE : Retourne les résultats de la recherche dans un template 'result.tpl'.\n",
    "    - ACTIONS :\n",
    "        - Pour une recherche de film, envoie une requête à l'API pour rechercher un titre de film.\n",
    "        - Pour une recherche d'acteur, envoie une requête à l'API pour rechercher un nom d'acteur."
   ]
  },
  {
   "cell_type": "code",
   "execution_count": 106,
   "id": "519df2bb-af43-4a96-9da8-1ab62e620dd0",
   "metadata": {},
   "outputs": [
    {
     "name": "stdout",
     "output_type": "stream",
     "text": [
      "Overwriting app_user2.py\n"
     ]
    }
   ],
   "source": [
    "%%writefile app_user2.py\n",
    "\n",
    "from bottle import Bottle, request, template, run\n",
    "import requests\n",
    "from json import loads\n",
    "\n",
    "app = Bottle()\n",
    "\n",
    "@app.get(\"/\")\n",
    "def input_form():\n",
    "    return template(\"form.tpl\")  # On utilisera un template pour les formulaires\n",
    "\n",
    "@app.post(\"/\")\n",
    "def process_form():\n",
    "    action = request.forms.get(\"action\")\n",
    "    result = \"\"\n",
    "    \n",
    "    if action == \"movie\":\n",
    "        title = request.forms.get(\"title\")\n",
    "        r = requests.get(f\"http://localhost:8080/search/movies/{title}\")\n",
    "        result = loads(r.text)\n",
    "    elif action == \"actor\":\n",
    "        name = request.forms.get(\"name\")\n",
    "        r = requests.get(f\"http://localhost:8080/search/actors/{name}\")\n",
    "        result = loads(r.text)\n",
    "        \n",
    "    return template(\"result.tpl\", result=result)\n"
   ]
  },
  {
   "cell_type": "markdown",
   "id": "a617e030-1a7a-4d10-b658-07ead9ecf9dc",
   "metadata": {},
   "source": [
    "<span style=\"color:blue\"><b>Solution :</b></span>\n",
    "\n",
    "Configuration et Exécution de l'Application\n",
    "\n",
    "- L'application principale Bottle (app) est créée.\n",
    "- L'application app_movies_actors est montée sur le chemin racine (\"/\"), ce qui signifie que toutes les routes définies dans app_movies_actors seront accessibles depuis l'URL de base du serveur.\n",
    "- L'application app_user est intégrée dans l'application principale, ce qui rend toutes les routes définies dans app_user2 disponibles dans l'application principale.\n",
    "- Enfin, la méthode app.run() est appelée pour démarrer le serveur en utilisant le serveur gevent sur localhost au port 8081."
   ]
  },
  {
   "cell_type": "code",
   "execution_count": 163,
   "id": "ae615809-ef0f-4467-8a6a-40baef9e064e",
   "metadata": {},
   "outputs": [
    {
     "name": "stdout",
     "output_type": "stream",
     "text": [
      "Overwriting runn2.py\n"
     ]
    }
   ],
   "source": [
    "%%writefile runn2.py\n",
    "from bottle import Bottle\n",
    "from gevent import monkey; monkey.patch_all()\n",
    "from app_movies_actors import app as app_movies_actors\n",
    "from app_user2 import app as app_user2\n",
    "\n",
    "app = Bottle()\n",
    "app.mount(\"/\", app_movies_actors)\n",
    "app.merge(app_user2)\n",
    "\n",
    "\n",
    "app.run(server=\"gevent\", host=\"localhost\", port=8081)\n"
   ]
  },
  {
   "cell_type": "code",
   "execution_count": 108,
   "id": "57fcb3b5-c391-4df1-ba8a-a9b57dbb14e5",
   "metadata": {},
   "outputs": [],
   "source": [
    "!wt python runn2.py"
   ]
  },
  {
   "cell_type": "code",
   "execution_count": null,
   "id": "c9ab1ff0-1e5e-4ad4-957c-43f00f21a16b",
   "metadata": {},
   "outputs": [],
   "source": []
  }
 ],
 "metadata": {
  "celltoolbar": "Slideshow",
  "colab": {
   "provenance": []
  },
  "kernelspec": {
   "display_name": "Python 3 (ipykernel)",
   "language": "python",
   "name": "python3"
  },
  "language_info": {
   "codemirror_mode": {
    "name": "ipython",
    "version": 3
   },
   "file_extension": ".py",
   "mimetype": "text/x-python",
   "name": "python",
   "nbconvert_exporter": "python",
   "pygments_lexer": "ipython3",
   "version": "3.12.4"
  },
  "toc": {
   "base_numbering": 1,
   "nav_menu": {},
   "number_sections": true,
   "sideBar": true,
   "skip_h1_title": true,
   "title_cell": "Table of Contents",
   "title_sidebar": "Contents",
   "toc_cell": false,
   "toc_position": {},
   "toc_section_display": true,
   "toc_window_display": false
  }
 },
 "nbformat": 4,
 "nbformat_minor": 5
}
